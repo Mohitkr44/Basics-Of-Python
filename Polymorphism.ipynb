{
 "cells": [
  {
   "cell_type": "code",
   "execution_count": 1,
   "id": "3261371f-862f-436e-9aca-ea698965a3b4",
   "metadata": {},
   "outputs": [],
   "source": [
    "def test(a,b):\n",
    "    return a+b"
   ]
  },
  {
   "cell_type": "code",
   "execution_count": 2,
   "id": "cec56491-63df-4210-82f5-3b801aa4c2bb",
   "metadata": {},
   "outputs": [
    {
     "data": {
      "text/plain": [
       "8"
      ]
     },
     "execution_count": 2,
     "metadata": {},
     "output_type": "execute_result"
    }
   ],
   "source": [
    "test(3,5)"
   ]
  },
  {
   "cell_type": "code",
   "execution_count": 3,
   "id": "c948435a-9626-4445-ba96-d46566c1011f",
   "metadata": {},
   "outputs": [
    {
     "data": {
      "text/plain": [
       "'mohitkumar'"
      ]
     },
     "execution_count": 3,
     "metadata": {},
     "output_type": "execute_result"
    }
   ],
   "source": [
    "test('mohit', 'kumar')"
   ]
  },
  {
   "cell_type": "code",
   "execution_count": 4,
   "id": "3f97be6a-aa9a-42c9-ad84-d117e4109410",
   "metadata": {},
   "outputs": [
    {
     "data": {
      "text/plain": [
       "[2, 3, 4, 5, 6, 9, 0, 4]"
      ]
     },
     "execution_count": 4,
     "metadata": {},
     "output_type": "execute_result"
    }
   ],
   "source": [
    "test([2,3,4,5],[6,9,0,4])"
   ]
  },
  {
   "cell_type": "code",
   "execution_count": 5,
   "id": "74232fad-aaca-4265-967d-541921d8112a",
   "metadata": {},
   "outputs": [],
   "source": [
    "class data_science:\n",
    "    def syllabus(self):\n",
    "        print('this is my syllabus for data science masters')"
   ]
  },
  {
   "cell_type": "code",
   "execution_count": 6,
   "id": "1eac4e5c-c51e-478a-a5ae-c6619792a4e8",
   "metadata": {},
   "outputs": [],
   "source": [
    "class web_dev:\n",
    "    def syllabus(self):\n",
    "        print('this is my syllabus for web dev')"
   ]
  },
  {
   "cell_type": "code",
   "execution_count": 7,
   "id": "a9f907c5-0287-4cd1-8cc2-d15cda680342",
   "metadata": {},
   "outputs": [],
   "source": [
    "def class_parcer(class_obj):\n",
    "    for i in class_obj:\n",
    "        i.syllabus()"
   ]
  },
  {
   "cell_type": "code",
   "execution_count": 9,
   "id": "d394d05e-bd0b-4ddf-9e1b-fe205f3f5b97",
   "metadata": {},
   "outputs": [],
   "source": [
    "data_science= data_science()\n"
   ]
  },
  {
   "cell_type": "code",
   "execution_count": 10,
   "id": "27481427-76e1-4fa5-a06c-4de965cd5042",
   "metadata": {},
   "outputs": [],
   "source": [
    "web_dev= web_dev()"
   ]
  },
  {
   "cell_type": "code",
   "execution_count": 11,
   "id": "cb460d69-79ae-45f2-8816-03b5cc20c580",
   "metadata": {},
   "outputs": [],
   "source": [
    "class_obj= [data_science,web_dev]"
   ]
  },
  {
   "cell_type": "code",
   "execution_count": 12,
   "id": "409b8b6f-f37d-411d-abd2-7762d343e24b",
   "metadata": {},
   "outputs": [
    {
     "name": "stdout",
     "output_type": "stream",
     "text": [
      "this is my syllabus for data science masters\n",
      "this is my syllabus for web dev\n"
     ]
    }
   ],
   "source": [
    "class_parcer(class_obj)"
   ]
  },
  {
   "cell_type": "code",
   "execution_count": null,
   "id": "6b2294ab-6994-4e67-9d17-9f878ba9c930",
   "metadata": {},
   "outputs": [],
   "source": []
  }
 ],
 "metadata": {
  "kernelspec": {
   "display_name": "Python 3 (ipykernel)",
   "language": "python",
   "name": "python3"
  },
  "language_info": {
   "codemirror_mode": {
    "name": "ipython",
    "version": 3
   },
   "file_extension": ".py",
   "mimetype": "text/x-python",
   "name": "python",
   "nbconvert_exporter": "python",
   "pygments_lexer": "ipython3",
   "version": "3.10.8"
  }
 },
 "nbformat": 4,
 "nbformat_minor": 5
}
