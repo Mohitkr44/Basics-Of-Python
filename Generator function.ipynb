{
 "cells": [
  {
   "cell_type": "code",
   "execution_count": 1,
   "id": "8e84bdd2-1905-47fb-ae51-866a5f4c27d5",
   "metadata": {},
   "outputs": [
    {
     "data": {
      "text/plain": [
       "range(0, 10)"
      ]
     },
     "execution_count": 1,
     "metadata": {},
     "output_type": "execute_result"
    }
   ],
   "source": [
    "range(10)"
   ]
  },
  {
   "cell_type": "code",
   "execution_count": 2,
   "id": "3110be1a-7fdf-4a01-bfdf-f030543c897c",
   "metadata": {},
   "outputs": [
    {
     "name": "stdout",
     "output_type": "stream",
     "text": [
      "0\n",
      "1\n",
      "2\n",
      "3\n",
      "4\n",
      "5\n",
      "6\n",
      "7\n",
      "8\n",
      "9\n"
     ]
    }
   ],
   "source": [
    "for i in range(10):\n",
    "    print(i)"
   ]
  },
  {
   "cell_type": "code",
   "execution_count": 3,
   "id": "11c6dc10-fe7d-4471-af95-5bda7fb5f4d3",
   "metadata": {},
   "outputs": [],
   "source": [
    "def test_fib(n):\n",
    "    a,b = 0,1\n",
    "    for i in range (n):\n",
    "        yield a\n",
    "        a,b= b, a+b"
   ]
  },
  {
   "cell_type": "code",
   "execution_count": 4,
   "id": "094c4511-3547-4d3c-bcf3-2fac97cfe755",
   "metadata": {},
   "outputs": [
    {
     "data": {
      "text/plain": [
       "<generator object test_fib at 0x7fded6385850>"
      ]
     },
     "execution_count": 4,
     "metadata": {},
     "output_type": "execute_result"
    }
   ],
   "source": [
    "test_fib(10)"
   ]
  },
  {
   "cell_type": "code",
   "execution_count": 5,
   "id": "bb633a0c-9e0e-4931-b05c-0e3f661a541e",
   "metadata": {},
   "outputs": [
    {
     "name": "stdout",
     "output_type": "stream",
     "text": [
      "0\n",
      "1\n",
      "1\n",
      "2\n",
      "3\n",
      "5\n",
      "8\n",
      "13\n",
      "21\n",
      "34\n"
     ]
    }
   ],
   "source": [
    "for i in test_fib(10):\n",
    "    print(i)"
   ]
  },
  {
   "cell_type": "code",
   "execution_count": 6,
   "id": "cfd036fe-99f4-4ec7-92c9-57978cb0380f",
   "metadata": {},
   "outputs": [
    {
     "name": "stdout",
     "output_type": "stream",
     "text": [
      "0\n",
      "1\n",
      "1\n",
      "2\n",
      "3\n",
      "5\n",
      "8\n",
      "13\n",
      "21\n",
      "34\n",
      "55\n",
      "89\n",
      "144\n",
      "233\n",
      "377\n",
      "610\n",
      "987\n",
      "1597\n",
      "2584\n",
      "4181\n",
      "6765\n",
      "10946\n",
      "17711\n",
      "28657\n",
      "46368\n",
      "75025\n",
      "121393\n",
      "196418\n",
      "317811\n",
      "514229\n",
      "832040\n",
      "1346269\n",
      "2178309\n",
      "3524578\n",
      "5702887\n",
      "9227465\n",
      "14930352\n",
      "24157817\n",
      "39088169\n",
      "63245986\n"
     ]
    }
   ],
   "source": [
    "for i in test_fib(40):\n",
    "    print(i)"
   ]
  },
  {
   "cell_type": "code",
   "execution_count": 1,
   "id": "3441c902-2fbe-466b-9400-1757d09a2d03",
   "metadata": {},
   "outputs": [],
   "source": [
    "def test_fib1():\n",
    "    a,b = 0,1\n",
    "    while True:\n",
    "        \n",
    "        yield a\n",
    "        a,b= b, a+b"
   ]
  },
  {
   "cell_type": "code",
   "execution_count": 3,
   "id": "7ecda27c-fc0b-44f0-af75-1df61c629944",
   "metadata": {},
   "outputs": [],
   "source": [
    "fib= test_fib1()"
   ]
  },
  {
   "cell_type": "code",
   "execution_count": 4,
   "id": "369766c7-d7a7-4fe9-a9c4-9532ef156f76",
   "metadata": {},
   "outputs": [
    {
     "name": "stdout",
     "output_type": "stream",
     "text": [
      "0\n",
      "1\n",
      "1\n",
      "2\n",
      "3\n",
      "5\n",
      "8\n",
      "13\n",
      "21\n",
      "34\n"
     ]
    }
   ],
   "source": [
    "for i in range(10):\n",
    "    print(next(fib))"
   ]
  },
  {
   "cell_type": "code",
   "execution_count": 5,
   "id": "ca15788e-d9ee-450b-a9b5-a96aeb77bfe2",
   "metadata": {},
   "outputs": [],
   "source": [
    "m= \"mohit\""
   ]
  },
  {
   "cell_type": "code",
   "execution_count": 6,
   "id": "a2977e93-42b3-409c-8bfc-81f5b448eec0",
   "metadata": {},
   "outputs": [
    {
     "name": "stdout",
     "output_type": "stream",
     "text": [
      "m\n",
      "o\n",
      "h\n",
      "i\n",
      "t\n"
     ]
    }
   ],
   "source": [
    "for i in m:\n",
    "    print (i)"
   ]
  },
  {
   "cell_type": "code",
   "execution_count": 7,
   "id": "c6bb5916-da62-4b1a-9589-acef37b93370",
   "metadata": {},
   "outputs": [
    {
     "data": {
      "text/plain": [
       "'mohit'"
      ]
     },
     "execution_count": 7,
     "metadata": {},
     "output_type": "execute_result"
    }
   ],
   "source": [
    "m"
   ]
  },
  {
   "cell_type": "code",
   "execution_count": 8,
   "id": "1d05c7c0-58b5-461d-a3d4-7cfee16eafe1",
   "metadata": {},
   "outputs": [
    {
     "ename": "TypeError",
     "evalue": "'str' object is not an iterator",
     "output_type": "error",
     "traceback": [
      "\u001b[0;31m---------------------------------------------------------------------------\u001b[0m",
      "\u001b[0;31mTypeError\u001b[0m                                 Traceback (most recent call last)",
      "Cell \u001b[0;32mIn[8], line 1\u001b[0m\n\u001b[0;32m----> 1\u001b[0m \u001b[38;5;28;43mnext\u001b[39;49m\u001b[43m(\u001b[49m\u001b[43mm\u001b[49m\u001b[43m)\u001b[49m\n",
      "\u001b[0;31mTypeError\u001b[0m: 'str' object is not an iterator"
     ]
    }
   ],
   "source": [
    "next(m)"
   ]
  },
  {
   "cell_type": "code",
   "execution_count": null,
   "id": "b763fbc5-f072-4f73-9914-b51c8cc8992c",
   "metadata": {},
   "outputs": [],
   "source": [
    "m1= iter(m)"
   ]
  },
  {
   "cell_type": "code",
   "execution_count": null,
   "id": "88f14b5e-4950-4cb7-ab4e-f307e1ca7ed6",
   "metadata": {},
   "outputs": [],
   "source": [
    "next(m)"
   ]
  },
  {
   "cell_type": "code",
   "execution_count": null,
   "id": "fb567a9a-862e-44ae-be3a-decc18047dde",
   "metadata": {},
   "outputs": [],
   "source": [
    "m"
   ]
  },
  {
   "cell_type": "code",
   "execution_count": null,
   "id": "b3da52c4-dc5a-4860-a9a4-c8b80d60f88b",
   "metadata": {},
   "outputs": [],
   "source": [
    "m= \"mohit\""
   ]
  },
  {
   "cell_type": "code",
   "execution_count": null,
   "id": "3ec78240-9fea-446a-b089-ec43f4ae4902",
   "metadata": {},
   "outputs": [],
   "source": [
    "m1= iter(m)"
   ]
  },
  {
   "cell_type": "code",
   "execution_count": null,
   "id": "1295498e-8d9a-4911-9f83-61d1939ad97e",
   "metadata": {},
   "outputs": [],
   "source": [
    "next(m1)"
   ]
  },
  {
   "cell_type": "code",
   "execution_count": 9,
   "id": "2dade0d9-cd75-474d-93cb-c181c75fee52",
   "metadata": {},
   "outputs": [],
   "source": [
    "m = 'mohit'"
   ]
  },
  {
   "cell_type": "code",
   "execution_count": 10,
   "id": "ad8581ca-ce8d-4e61-9113-3b0ebd9f122c",
   "metadata": {},
   "outputs": [
    {
     "data": {
      "text/plain": [
       "'mohit'"
      ]
     },
     "execution_count": 10,
     "metadata": {},
     "output_type": "execute_result"
    }
   ],
   "source": [
    "m"
   ]
  },
  {
   "cell_type": "code",
   "execution_count": 11,
   "id": "1211eb08-d560-4480-a7dc-101efde0a1a0",
   "metadata": {},
   "outputs": [],
   "source": [
    "m1= iter(m)"
   ]
  },
  {
   "cell_type": "code",
   "execution_count": 12,
   "id": "2154fee6-7e6f-433f-94d6-2daf5dea9268",
   "metadata": {},
   "outputs": [
    {
     "data": {
      "text/plain": [
       "'m'"
      ]
     },
     "execution_count": 12,
     "metadata": {},
     "output_type": "execute_result"
    }
   ],
   "source": [
    "next(m1)"
   ]
  },
  {
   "cell_type": "code",
   "execution_count": 13,
   "id": "d4423138-dabc-4093-85e5-5f447b60ea60",
   "metadata": {},
   "outputs": [
    {
     "data": {
      "text/plain": [
       "'o'"
      ]
     },
     "execution_count": 13,
     "metadata": {},
     "output_type": "execute_result"
    }
   ],
   "source": [
    "next(m1)"
   ]
  },
  {
   "cell_type": "code",
   "execution_count": 14,
   "id": "ff6c3947-8e9b-46d8-ab12-a5a6cd5411c7",
   "metadata": {},
   "outputs": [
    {
     "data": {
      "text/plain": [
       "'h'"
      ]
     },
     "execution_count": 14,
     "metadata": {},
     "output_type": "execute_result"
    }
   ],
   "source": [
    "next(m1)"
   ]
  },
  {
   "cell_type": "code",
   "execution_count": 15,
   "id": "29f38c36-8762-47cb-b239-e10896c174c4",
   "metadata": {},
   "outputs": [
    {
     "data": {
      "text/plain": [
       "'i'"
      ]
     },
     "execution_count": 15,
     "metadata": {},
     "output_type": "execute_result"
    }
   ],
   "source": [
    "next(m1)"
   ]
  },
  {
   "cell_type": "code",
   "execution_count": 16,
   "id": "3ea43d89-f665-432c-8f1f-102fd9f0f8b7",
   "metadata": {},
   "outputs": [
    {
     "data": {
      "text/plain": [
       "'t'"
      ]
     },
     "execution_count": 16,
     "metadata": {},
     "output_type": "execute_result"
    }
   ],
   "source": [
    "next(m1)"
   ]
  },
  {
   "cell_type": "code",
   "execution_count": 17,
   "id": "a1c4b30f-7d54-40f3-92cd-52b1f1507756",
   "metadata": {},
   "outputs": [
    {
     "ename": "StopIteration",
     "evalue": "",
     "output_type": "error",
     "traceback": [
      "\u001b[0;31m---------------------------------------------------------------------------\u001b[0m",
      "\u001b[0;31mStopIteration\u001b[0m                             Traceback (most recent call last)",
      "Cell \u001b[0;32mIn[17], line 1\u001b[0m\n\u001b[0;32m----> 1\u001b[0m \u001b[38;5;28;43mnext\u001b[39;49m\u001b[43m(\u001b[49m\u001b[43mm1\u001b[49m\u001b[43m)\u001b[49m\n",
      "\u001b[0;31mStopIteration\u001b[0m: "
     ]
    }
   ],
   "source": [
    "next(m1)"
   ]
  },
  {
   "cell_type": "code",
   "execution_count": 18,
   "id": "9e25b079-b022-4888-b73e-dd67162c8582",
   "metadata": {},
   "outputs": [
    {
     "ename": "TypeError",
     "evalue": "'int' object is not an iterator",
     "output_type": "error",
     "traceback": [
      "\u001b[0;31m---------------------------------------------------------------------------\u001b[0m",
      "\u001b[0;31mTypeError\u001b[0m                                 Traceback (most recent call last)",
      "Cell \u001b[0;32mIn[18], line 1\u001b[0m\n\u001b[0;32m----> 1\u001b[0m \u001b[38;5;28;43mnext\u001b[39;49m\u001b[43m(\u001b[49m\u001b[38;5;241;43m24\u001b[39;49m\u001b[43m)\u001b[49m\n",
      "\u001b[0;31mTypeError\u001b[0m: 'int' object is not an iterator"
     ]
    }
   ],
   "source": [
    "next(24)"
   ]
  },
  {
   "cell_type": "code",
   "execution_count": 19,
   "id": "80eae531-3bb9-42e8-a127-42a8bc999649",
   "metadata": {},
   "outputs": [
    {
     "ename": "TypeError",
     "evalue": "'int' object is not iterable",
     "output_type": "error",
     "traceback": [
      "\u001b[0;31m---------------------------------------------------------------------------\u001b[0m",
      "\u001b[0;31mTypeError\u001b[0m                                 Traceback (most recent call last)",
      "Cell \u001b[0;32mIn[19], line 1\u001b[0m\n\u001b[0;32m----> 1\u001b[0m \u001b[38;5;28;43miter\u001b[39;49m\u001b[43m(\u001b[49m\u001b[38;5;241;43m34\u001b[39;49m\u001b[43m)\u001b[49m\n",
      "\u001b[0;31mTypeError\u001b[0m: 'int' object is not iterable"
     ]
    }
   ],
   "source": [
    "iter(34)"
   ]
  },
  {
   "cell_type": "code",
   "execution_count": 20,
   "id": "52af102d-e9c4-4d9c-9610-6b8447347284",
   "metadata": {},
   "outputs": [],
   "source": [
    "def test_fib1():\n",
    "    a,b = 0,1\n",
    "    while True:\n",
    "        \n",
    "        yield a\n",
    "        a,b= b, a+b"
   ]
  },
  {
   "cell_type": "code",
   "execution_count": 21,
   "id": "21454a89-d7c3-4fb8-ade2-358acf10d03c",
   "metadata": {},
   "outputs": [],
   "source": [
    "fib= test_fib1()"
   ]
  },
  {
   "cell_type": "code",
   "execution_count": 22,
   "id": "d6a834c6-4c12-43d2-abc3-5d0c6835bcfa",
   "metadata": {},
   "outputs": [
    {
     "name": "stdout",
     "output_type": "stream",
     "text": [
      "0\n",
      "1\n",
      "1\n",
      "2\n",
      "3\n",
      "5\n",
      "8\n",
      "13\n",
      "21\n",
      "34\n"
     ]
    }
   ],
   "source": [
    "for i in range(10):\n",
    "    print(next(fib))"
   ]
  },
  {
   "cell_type": "code",
   "execution_count": 23,
   "id": "100216b3-30a4-4fa0-b547-a0ff08cf2372",
   "metadata": {},
   "outputs": [],
   "source": [
    "def count_test(n):\n",
    "    count=1\n",
    "    while count<n:\n",
    "        yield count\n",
    "        count= count + 1"
   ]
  },
  {
   "cell_type": "code",
   "execution_count": 24,
   "id": "827d503f-429e-4ed0-a2d2-f49926589dfc",
   "metadata": {},
   "outputs": [],
   "source": [
    "c= count_test(10)"
   ]
  },
  {
   "cell_type": "code",
   "execution_count": 25,
   "id": "6c130959-f4a7-4dcb-b0d7-64775f0bbd92",
   "metadata": {},
   "outputs": [
    {
     "name": "stdout",
     "output_type": "stream",
     "text": [
      "1\n",
      "2\n",
      "3\n",
      "4\n",
      "5\n",
      "6\n",
      "7\n",
      "8\n",
      "9\n"
     ]
    }
   ],
   "source": [
    "for i in c:\n",
    "    print(i)"
   ]
  },
  {
   "cell_type": "code",
   "execution_count": null,
   "id": "6804fcad-ff27-42b5-8d57-9b2abfec6224",
   "metadata": {},
   "outputs": [],
   "source": []
  }
 ],
 "metadata": {
  "kernelspec": {
   "display_name": "Python 3 (ipykernel)",
   "language": "python",
   "name": "python3"
  },
  "language_info": {
   "codemirror_mode": {
    "name": "ipython",
    "version": 3
   },
   "file_extension": ".py",
   "mimetype": "text/x-python",
   "name": "python",
   "nbconvert_exporter": "python",
   "pygments_lexer": "ipython3",
   "version": "3.10.8"
  }
 },
 "nbformat": 4,
 "nbformat_minor": 5
}
