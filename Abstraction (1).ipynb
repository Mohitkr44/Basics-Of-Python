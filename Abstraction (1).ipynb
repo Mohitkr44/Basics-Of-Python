{
 "cells": [
  {
   "cell_type": "code",
   "execution_count": 3,
   "id": "64290f9c-08c8-46bc-978a-67468b320ddd",
   "metadata": {},
   "outputs": [],
   "source": [
    "import abc\n",
    "class pwskills:\n",
    "    \n",
    "    @abc.abstractmethod\n",
    "    def students_details(self):\n",
    "        pass\n",
    "    \n",
    "    @abc.abstractmethod\n",
    "    def students_assignment(self):\n",
    "        pass\n",
    "    \n",
    "    @abc.abstractmethod\n",
    "    def students_marks(self):\n",
    "        pass"
   ]
  },
  {
   "cell_type": "code",
   "execution_count": 14,
   "id": "941a6fc5-e245-45b9-8248-82f2603310d5",
   "metadata": {},
   "outputs": [],
   "source": [
    "class students_details(pwskills):\n",
    "    \n",
    "    def students_details(self):\n",
    "        return 'this is a method for taking students details'\n",
    "    \n",
    "    def students_assignment(self):\n",
    "        return 'this is a method for assining details for particular student'"
   ]
  },
  {
   "cell_type": "code",
   "execution_count": 7,
   "id": "57ccb15d-0b11-4801-863e-e340d43fc2b6",
   "metadata": {},
   "outputs": [],
   "source": [
    "class data_science_masters(pwskills):\n",
    "    \n",
    "    def students_details(self):\n",
    "        return 'this is a method for taking students details for data science'\n",
    "    \n",
    "    def students_assignment(self):\n",
    "        return 'this is a method for assining details for particular student for data science master'"
   ]
  },
  {
   "cell_type": "code",
   "execution_count": null,
   "id": "4ea129f6-61bb-4974-be92-0c00c5c1bcf8",
   "metadata": {},
   "outputs": [],
   "source": []
  },
  {
   "cell_type": "code",
   "execution_count": 8,
   "id": "e7e3dfd0-36a6-4695-9f23-00cd7c9f279f",
   "metadata": {},
   "outputs": [],
   "source": [
    "dsm= data_science_masters() "
   ]
  },
  {
   "cell_type": "code",
   "execution_count": 10,
   "id": "ce1bbc81-a39b-4e25-ad1d-e9b2bc3db4a9",
   "metadata": {},
   "outputs": [],
   "source": [
    "sd = students_details()"
   ]
  },
  {
   "cell_type": "code",
   "execution_count": 12,
   "id": "6b482adc-8896-45b1-881d-97c0b5784d73",
   "metadata": {},
   "outputs": [
    {
     "data": {
      "text/plain": [
       "'this is a method for taking students details for data science'"
      ]
     },
     "execution_count": 12,
     "metadata": {},
     "output_type": "execute_result"
    }
   ],
   "source": [
    "dsm.students_details()"
   ]
  },
  {
   "cell_type": "code",
   "execution_count": 15,
   "id": "1172d4e8-3352-45ec-8272-3cacac59c676",
   "metadata": {},
   "outputs": [
    {
     "data": {
      "text/plain": [
       "'this is a method for taking students details for data science'"
      ]
     },
     "execution_count": 15,
     "metadata": {},
     "output_type": "execute_result"
    }
   ],
   "source": [
    "sd.students_details()"
   ]
  },
  {
   "cell_type": "code",
   "execution_count": null,
   "id": "b93f359b-3a60-4cd3-ad04-b05397650ca6",
   "metadata": {},
   "outputs": [],
   "source": []
  }
 ],
 "metadata": {
  "kernelspec": {
   "display_name": "Python 3 (ipykernel)",
   "language": "python",
   "name": "python3"
  },
  "language_info": {
   "codemirror_mode": {
    "name": "ipython",
    "version": 3
   },
   "file_extension": ".py",
   "mimetype": "text/x-python",
   "name": "python",
   "nbconvert_exporter": "python",
   "pygments_lexer": "ipython3",
   "version": "3.10.8"
  }
 },
 "nbformat": 4,
 "nbformat_minor": 5
}
