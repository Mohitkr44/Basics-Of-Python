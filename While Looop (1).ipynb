{
 "cells": [
  {
   "cell_type": "code",
   "execution_count": 1,
   "id": "c6ac7fa0-5824-40e8-bd9c-dcec72c497ab",
   "metadata": {},
   "outputs": [
    {
     "name": "stdin",
     "output_type": "stream",
     "text": [
      "enter your number 4\n"
     ]
    },
    {
     "data": {
      "text/plain": [
       "24"
      ]
     },
     "execution_count": 1,
     "metadata": {},
     "output_type": "execute_result"
    }
   ],
   "source": [
    "number = int(input('enter your number'))\n",
    "factorial = 1\n",
    "while number >0:\n",
    "    factorial = factorial*number\n",
    "    number = number-1\n",
    "factorial    "
   ]
  },
  {
   "cell_type": "markdown",
   "id": "21de81b5-f10c-4170-8050-00420656a3b6",
   "metadata": {},
   "source": [
    "#finonacci series is sum of previous two number"
   ]
  },
  {
   "cell_type": "code",
   "execution_count": 4,
   "id": "a5c7188a-d215-4467-b34d-9e23470a2ef7",
   "metadata": {},
   "outputs": [
    {
     "name": "stdin",
     "output_type": "stream",
     "text": [
      "enter the number of element you are looking for 10\n"
     ]
    },
    {
     "name": "stdout",
     "output_type": "stream",
     "text": [
      "0\n",
      "1\n",
      "1\n",
      "2\n",
      "3\n",
      "5\n",
      "8\n",
      "13\n",
      "21\n",
      "34\n"
     ]
    }
   ],
   "source": [
    "number= int(input('enter the number of element you are looking for'))\n",
    "a,b = 0,1\n",
    "counter = 0\n",
    "while counter < number:\n",
    "    print(a)\n",
    "    c= a+b\n",
    "    a=b\n",
    "    b=c\n",
    "    counter = counter + 1\n",
    "    "
   ]
  },
  {
   "cell_type": "code",
   "execution_count": 6,
   "id": "5968eda4-d46c-4eb0-a70d-231a044a33af",
   "metadata": {},
   "outputs": [
    {
     "name": "stdout",
     "output_type": "stream",
     "text": [
      "0\n",
      "1\n",
      "1\n",
      "2\n",
      "3\n",
      "5\n",
      "8\n",
      "13\n",
      "21\n",
      "34\n"
     ]
    }
   ],
   "source": [
    " a,b= 0,1\n",
    " for i in range(10):\n",
    "    print(a)\n",
    "    c= a+b\n",
    "    a=b\n",
    "    b=c"
   ]
  },
  {
   "cell_type": "code",
   "execution_count": 7,
   "id": "ace74d92-8123-4468-b00d-6de194d3b309",
   "metadata": {},
   "outputs": [],
   "source": [
    "s= 'mohit'"
   ]
  },
  {
   "cell_type": "code",
   "execution_count": 10,
   "id": "54e3382c-5e7f-436c-8f0c-87459b015f5c",
   "metadata": {},
   "outputs": [
    {
     "data": {
      "text/plain": [
       "'tihom'"
      ]
     },
     "execution_count": 10,
     "metadata": {},
     "output_type": "execute_result"
    }
   ],
   "source": [
    "s[::-1]"
   ]
  },
  {
   "cell_type": "code",
   "execution_count": 11,
   "id": "c9953caf-082a-45d8-82f4-729a152ffb2b",
   "metadata": {},
   "outputs": [
    {
     "data": {
      "text/plain": [
       "5"
      ]
     },
     "execution_count": 11,
     "metadata": {},
     "output_type": "execute_result"
    }
   ],
   "source": [
    "len(word)"
   ]
  },
  {
   "cell_type": "code",
   "execution_count": 9,
   "id": "039f70ac-43b9-4aa1-92b3-19cf57c59ea3",
   "metadata": {},
   "outputs": [
    {
     "name": "stdin",
     "output_type": "stream",
     "text": [
      "enter your string for reversal mohit\n"
     ]
    }
   ],
   "source": [
    "word = input('enter your string for reversal')"
   ]
  },
  {
   "cell_type": "code",
   "execution_count": 12,
   "id": "0e3d3f35-c5b2-437d-8e47-a6c08c85cb39",
   "metadata": {},
   "outputs": [
    {
     "name": "stdout",
     "output_type": "stream",
     "text": [
      "tihom\n"
     ]
    }
   ],
   "source": [
    "reverse=''\n",
    "length= len(word)\n",
    "while length >0:\n",
    "    reverse= reverse+ word[length-1]\n",
    "    length= length-1\n",
    "print(reverse)    "
   ]
  },
  {
   "cell_type": "code",
   "execution_count": 13,
   "id": "58c34e00-b511-461f-ba5f-5ee8118c6000",
   "metadata": {},
   "outputs": [],
   "source": [
    "#print table of number\n"
   ]
  },
  {
   "cell_type": "code",
   "execution_count": 17,
   "id": "0a59e93d-6092-4956-b0b3-b5f77be38701",
   "metadata": {},
   "outputs": [
    {
     "name": "stdin",
     "output_type": "stream",
     "text": [
      "enter your number 25\n"
     ]
    },
    {
     "name": "stdout",
     "output_type": "stream",
     "text": [
      "25 * 1 = 25\n",
      "25 * 2 = 50\n",
      "25 * 3 = 75\n",
      "25 * 4 = 100\n",
      "25 * 5 = 125\n",
      "25 * 6 = 150\n",
      "25 * 7 = 175\n",
      "25 * 8 = 200\n",
      "25 * 9 = 225\n",
      "25 * 10 = 250\n"
     ]
    }
   ],
   "source": [
    "n = int(input('enter your number'))\n",
    "i=1\n",
    "\n",
    "while i<=10:\n",
    "    result = n*i\n",
    "    print(n,'*',i,'=',result)\n",
    "    i=i+1"
   ]
  },
  {
   "cell_type": "code",
   "execution_count": 18,
   "id": "79678402-0a21-431c-8022-0a867312a78c",
   "metadata": {},
   "outputs": [
    {
     "name": "stdout",
     "output_type": "stream",
     "text": [
      "1\n",
      "2\n",
      "3\n",
      "4\n",
      "this will be executed once while loop is completed it successfully\n"
     ]
    }
   ],
   "source": [
    "n= 5\n",
    "i= 1\n",
    "while i<n:\n",
    "    print (i)\n",
    "    i=i+1\n",
    "else:\n",
    "    print('this will be executed once while loop is completed it successfully')"
   ]
  },
  {
   "cell_type": "code",
   "execution_count": null,
   "id": "2ac128ac-a090-4fd7-8ec9-765f5f9f51e4",
   "metadata": {},
   "outputs": [],
   "source": []
  }
 ],
 "metadata": {
  "kernelspec": {
   "display_name": "Python 3 (ipykernel)",
   "language": "python",
   "name": "python3"
  },
  "language_info": {
   "codemirror_mode": {
    "name": "ipython",
    "version": 3
   },
   "file_extension": ".py",
   "mimetype": "text/x-python",
   "name": "python",
   "nbconvert_exporter": "python",
   "pygments_lexer": "ipython3",
   "version": "3.10.8"
  }
 },
 "nbformat": 4,
 "nbformat_minor": 5
}
