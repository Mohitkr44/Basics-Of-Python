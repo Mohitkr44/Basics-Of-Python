{
 "cells": [
  {
   "cell_type": "code",
   "execution_count": 2,
   "id": "84544910-7bf7-435f-8a02-cd7a7265e245",
   "metadata": {},
   "outputs": [],
   "source": [
    "n=3\n",
    "p=4"
   ]
  },
  {
   "cell_type": "code",
   "execution_count": 3,
   "id": "be07786d-e442-449a-9baa-11a605536b48",
   "metadata": {},
   "outputs": [],
   "source": [
    "def test(n,p):\n",
    "    return n**p"
   ]
  },
  {
   "cell_type": "code",
   "execution_count": 4,
   "id": "7f7dc8d3-bfac-4145-8e1a-0ca6480628bf",
   "metadata": {},
   "outputs": [
    {
     "data": {
      "text/plain": [
       "81"
      ]
     },
     "execution_count": 4,
     "metadata": {},
     "output_type": "execute_result"
    }
   ],
   "source": [
    "test(3,4)"
   ]
  },
  {
   "cell_type": "code",
   "execution_count": 5,
   "id": "b546d027-69a8-4f85-bc21-f87093ab6a78",
   "metadata": {},
   "outputs": [
    {
     "data": {
      "text/plain": [
       "<function __main__.<lambda>(n, p)>"
      ]
     },
     "execution_count": 5,
     "metadata": {},
     "output_type": "execute_result"
    }
   ],
   "source": [
    "lambda n,p: n**p"
   ]
  },
  {
   "cell_type": "code",
   "execution_count": 6,
   "id": "aec448c4-84b3-4d75-b0b8-3f0460d3ef1b",
   "metadata": {},
   "outputs": [],
   "source": [
    "a= lambda n,p: n**p"
   ]
  },
  {
   "cell_type": "code",
   "execution_count": 7,
   "id": "2cac4f31-9dd2-4aa3-9d2c-d80e59ff8378",
   "metadata": {},
   "outputs": [
    {
     "data": {
      "text/plain": [
       "81"
      ]
     },
     "execution_count": 7,
     "metadata": {},
     "output_type": "execute_result"
    }
   ],
   "source": [
    "a(3,4)"
   ]
  },
  {
   "cell_type": "code",
   "execution_count": 8,
   "id": "60e870d7-1b48-4828-bd2a-297d53ad27d7",
   "metadata": {},
   "outputs": [],
   "source": [
    "add= lambda x,y: x+y"
   ]
  },
  {
   "cell_type": "code",
   "execution_count": 9,
   "id": "58c038d7-9106-4fb6-8d2d-a161a6d9ed01",
   "metadata": {},
   "outputs": [
    {
     "data": {
      "text/plain": [
       "7"
      ]
     },
     "execution_count": 9,
     "metadata": {},
     "output_type": "execute_result"
    }
   ],
   "source": [
    "add(3,4)"
   ]
  },
  {
   "cell_type": "code",
   "execution_count": 12,
   "id": "249e7db6-e515-408b-9136-ad3b3657aad5",
   "metadata": {},
   "outputs": [],
   "source": [
    "c_to_f= lambda c: (9/5)*c+32\n"
   ]
  },
  {
   "cell_type": "code",
   "execution_count": 13,
   "id": "0fcbef68-9dba-4671-964a-d4c5f09c6860",
   "metadata": {},
   "outputs": [
    {
     "data": {
      "text/plain": [
       "91.4"
      ]
     },
     "execution_count": 13,
     "metadata": {},
     "output_type": "execute_result"
    }
   ],
   "source": [
    "c_to_f(33)"
   ]
  },
  {
   "cell_type": "code",
   "execution_count": 14,
   "id": "dc34b38e-c3ff-4184-ac10-0976620780c7",
   "metadata": {},
   "outputs": [],
   "source": [
    "finding_max= lambda x,y: x if x>y else y"
   ]
  },
  {
   "cell_type": "code",
   "execution_count": 15,
   "id": "d690a5f7-d972-4f38-aa09-ee43e6847daa",
   "metadata": {},
   "outputs": [
    {
     "data": {
      "text/plain": [
       "98"
      ]
     },
     "execution_count": 15,
     "metadata": {},
     "output_type": "execute_result"
    }
   ],
   "source": [
    "finding_max(67,98)"
   ]
  },
  {
   "cell_type": "code",
   "execution_count": 16,
   "id": "ec0ae066-f7be-49ce-bdce-db69e245d489",
   "metadata": {},
   "outputs": [],
   "source": [
    "s= \"pwskills\""
   ]
  },
  {
   "cell_type": "code",
   "execution_count": 17,
   "id": "a2a4f2d9-e37f-4126-8899-1a4d0fc20fe8",
   "metadata": {},
   "outputs": [],
   "source": [
    "find_len= lambda s: len(s)"
   ]
  },
  {
   "cell_type": "code",
   "execution_count": 18,
   "id": "7f2d33a7-5f24-43d7-9b09-df324fe436b9",
   "metadata": {},
   "outputs": [
    {
     "data": {
      "text/plain": [
       "8"
      ]
     },
     "execution_count": 18,
     "metadata": {},
     "output_type": "execute_result"
    }
   ],
   "source": [
    "find_len(s)"
   ]
  },
  {
   "cell_type": "code",
   "execution_count": null,
   "id": "048d4776-742e-48f9-abd9-26ef907d9ddf",
   "metadata": {},
   "outputs": [],
   "source": []
  }
 ],
 "metadata": {
  "kernelspec": {
   "display_name": "Python 3 (ipykernel)",
   "language": "python",
   "name": "python3"
  },
  "language_info": {
   "codemirror_mode": {
    "name": "ipython",
    "version": 3
   },
   "file_extension": ".py",
   "mimetype": "text/x-python",
   "name": "python",
   "nbconvert_exporter": "python",
   "pygments_lexer": "ipython3",
   "version": "3.10.8"
  }
 },
 "nbformat": 4,
 "nbformat_minor": 5
}
