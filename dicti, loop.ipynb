{
 "cells": [
  {
   "cell_type": "code",
   "execution_count": 1,
   "id": "173f6440-ae23-4867-af9a-e0a347999e6e",
   "metadata": {},
   "outputs": [],
   "source": [
    "d= {}"
   ]
  },
  {
   "cell_type": "code",
   "execution_count": 2,
   "id": "460705bf-21c8-48a2-829e-11d1a0738c5b",
   "metadata": {},
   "outputs": [
    {
     "data": {
      "text/plain": [
       "dict"
      ]
     },
     "execution_count": 2,
     "metadata": {},
     "output_type": "execute_result"
    }
   ],
   "source": [
    "type(d)"
   ]
  },
  {
   "cell_type": "code",
   "execution_count": 3,
   "id": "35489df2-1209-48e8-b95f-7a994c2e8134",
   "metadata": {},
   "outputs": [],
   "source": [
    "d1 = {'key': 'mohit'}"
   ]
  },
  {
   "cell_type": "code",
   "execution_count": 4,
   "id": "e84ff269-2833-49d8-bbd1-8fbeaa0c16c6",
   "metadata": {},
   "outputs": [
    {
     "data": {
      "text/plain": [
       "{'key': 'mohit'}"
      ]
     },
     "execution_count": 4,
     "metadata": {},
     "output_type": "execute_result"
    }
   ],
   "source": [
    "d1"
   ]
  },
  {
   "cell_type": "code",
   "execution_count": 5,
   "id": "3e007d71-57b7-4b27-ae31-b25c51d809ad",
   "metadata": {},
   "outputs": [],
   "source": [
    "d2={'name':'mohit', 'email':'mhtkmr44@gmail.com'}"
   ]
  },
  {
   "cell_type": "code",
   "execution_count": 6,
   "id": "16131a10-2061-4a30-b5d3-ba116a10a9cb",
   "metadata": {},
   "outputs": [
    {
     "data": {
      "text/plain": [
       "{'name': 'mohit', 'email': 'mhtkmr44@gmail.com'}"
      ]
     },
     "execution_count": 6,
     "metadata": {},
     "output_type": "execute_result"
    }
   ],
   "source": [
    "d2"
   ]
  },
  {
   "cell_type": "code",
   "execution_count": 9,
   "id": "286dd3a1-1f3f-463c-86a2-3a9fbcd2a44e",
   "metadata": {},
   "outputs": [],
   "source": [
    "d3={123:'mohit', True: 1233}"
   ]
  },
  {
   "cell_type": "code",
   "execution_count": 10,
   "id": "89145da9-7242-4f30-bee4-d1b5d81db77a",
   "metadata": {},
   "outputs": [
    {
     "data": {
      "text/plain": [
       "{123: 'mohit', True: 1233}"
      ]
     },
     "execution_count": 10,
     "metadata": {},
     "output_type": "execute_result"
    }
   ],
   "source": [
    "d3"
   ]
  },
  {
   "cell_type": "code",
   "execution_count": 13,
   "id": "4bf42845-4a1d-40fc-9829-0d278fef01da",
   "metadata": {},
   "outputs": [
    {
     "data": {
      "text/plain": [
       "'mohit'"
      ]
     },
     "execution_count": 13,
     "metadata": {},
     "output_type": "execute_result"
    }
   ],
   "source": [
    "d3[123]"
   ]
  },
  {
   "cell_type": "code",
   "execution_count": 15,
   "id": "90ea721a-0eb3-41cc-920a-224c880fc47b",
   "metadata": {},
   "outputs": [
    {
     "data": {
      "text/plain": [
       "'mhtkmr44@gmail.com'"
      ]
     },
     "execution_count": 15,
     "metadata": {},
     "output_type": "execute_result"
    }
   ],
   "source": [
    "d2['email']"
   ]
  },
  {
   "cell_type": "code",
   "execution_count": 16,
   "id": "9aacfad8-c8a8-406c-b05f-ec3270b0a204",
   "metadata": {},
   "outputs": [],
   "source": [
    "d4={'name':'mohit', \"name\":\"mohit kumar\"}"
   ]
  },
  {
   "cell_type": "code",
   "execution_count": 17,
   "id": "a91f2d21-071d-4e41-99c1-583cae249d15",
   "metadata": {},
   "outputs": [
    {
     "data": {
      "text/plain": [
       "'mohit kumar'"
      ]
     },
     "execution_count": 17,
     "metadata": {},
     "output_type": "execute_result"
    }
   ],
   "source": [
    "d4['name']"
   ]
  },
  {
   "cell_type": "code",
   "execution_count": 18,
   "id": "3c326820-cf0d-40db-b038-a485cf249f07",
   "metadata": {},
   "outputs": [],
   "source": [
    "d5={'company':\"pwskills\", 'courses':[\"web dev\",'data science','java']}"
   ]
  },
  {
   "cell_type": "code",
   "execution_count": 19,
   "id": "e05a60b5-192a-4a3f-a571-de1671364354",
   "metadata": {},
   "outputs": [
    {
     "data": {
      "text/plain": [
       "{'company': 'pwskills', 'courses': ['web dev', 'data science', 'java']}"
      ]
     },
     "execution_count": 19,
     "metadata": {},
     "output_type": "execute_result"
    }
   ],
   "source": [
    "d5"
   ]
  },
  {
   "cell_type": "code",
   "execution_count": 20,
   "id": "d885209a-0c91-401a-90e0-011a2d145f1b",
   "metadata": {},
   "outputs": [
    {
     "data": {
      "text/plain": [
       "'java'"
      ]
     },
     "execution_count": 20,
     "metadata": {},
     "output_type": "execute_result"
    }
   ],
   "source": [
    "d5['courses'][2]"
   ]
  },
  {
   "cell_type": "code",
   "execution_count": 21,
   "id": "5ed1383c-6bff-4c47-a5da-b071d363e0a5",
   "metadata": {},
   "outputs": [],
   "source": [
    "d6={'number':[2,3,4,5,6,566,66],'assignment':(1,2,3,45),'launch date':{23 ,8,23}}"
   ]
  },
  {
   "cell_type": "code",
   "execution_count": 22,
   "id": "5a9f9fbb-b702-4ddd-a71d-f1c026810cf1",
   "metadata": {},
   "outputs": [
    {
     "data": {
      "text/plain": [
       "{'number': [2, 3, 4, 5, 6, 566, 66],\n",
       " 'assignment': (1, 2, 3, 45),\n",
       " 'launch date': {8, 23}}"
      ]
     },
     "execution_count": 22,
     "metadata": {},
     "output_type": "execute_result"
    }
   ],
   "source": [
    "d6"
   ]
  },
  {
   "cell_type": "code",
   "execution_count": 23,
   "id": "19b7b0e7-023d-43bc-9260-0c4ce553acac",
   "metadata": {},
   "outputs": [
    {
     "data": {
      "text/plain": [
       "3"
      ]
     },
     "execution_count": 23,
     "metadata": {},
     "output_type": "execute_result"
    }
   ],
   "source": [
    "d6['assignment'][2]"
   ]
  },
  {
   "cell_type": "code",
   "execution_count": 24,
   "id": "8721daf3-8b63-41b3-b703-d249718dcb89",
   "metadata": {},
   "outputs": [],
   "source": [
    "d6['mentor']= ['mohit','krish','ravi','pandey']"
   ]
  },
  {
   "cell_type": "code",
   "execution_count": 25,
   "id": "aadc3932-d432-4930-a439-87f49dc656ad",
   "metadata": {},
   "outputs": [
    {
     "data": {
      "text/plain": [
       "{'number': [2, 3, 4, 5, 6, 566, 66],\n",
       " 'assignment': (1, 2, 3, 45),\n",
       " 'launch date': {8, 23},\n",
       " 'mentor': ['mohit', 'krish', 'ravi', 'pandey']}"
      ]
     },
     "execution_count": 25,
     "metadata": {},
     "output_type": "execute_result"
    }
   ],
   "source": [
    "d6"
   ]
  },
  {
   "cell_type": "code",
   "execution_count": 28,
   "id": "07d7fe68-e02f-4933-9f9b-4c3fc0466926",
   "metadata": {},
   "outputs": [],
   "source": [
    "del d6['number']"
   ]
  },
  {
   "cell_type": "code",
   "execution_count": 29,
   "id": "7f169eaa-39fd-4e21-8c47-162a21efead4",
   "metadata": {},
   "outputs": [
    {
     "data": {
      "text/plain": [
       "{'assignment': (1, 2, 3, 45),\n",
       " 'launch date': {8, 23},\n",
       " 'mentor': ['mohit', 'krish', 'ravi', 'pandey']}"
      ]
     },
     "execution_count": 29,
     "metadata": {},
     "output_type": "execute_result"
    }
   ],
   "source": [
    "d6"
   ]
  },
  {
   "cell_type": "code",
   "execution_count": 30,
   "id": "5a57aeb1-29f6-475c-b984-6386737863c4",
   "metadata": {},
   "outputs": [
    {
     "data": {
      "text/plain": [
       "dict_items([('assignment', (1, 2, 3, 45)), ('launch date', {8, 23}), ('mentor', ['mohit', 'krish', 'ravi', 'pandey'])])"
      ]
     },
     "execution_count": 30,
     "metadata": {},
     "output_type": "execute_result"
    }
   ],
   "source": [
    "d6.items()"
   ]
  },
  {
   "cell_type": "code",
   "execution_count": 31,
   "id": "9cd64bb9-07a8-4c73-9026-8e7100a7157d",
   "metadata": {},
   "outputs": [
    {
     "data": {
      "text/plain": [
       "[('assignment', (1, 2, 3, 45)),\n",
       " ('launch date', {8, 23}),\n",
       " ('mentor', ['mohit', 'krish', 'ravi', 'pandey'])]"
      ]
     },
     "execution_count": 31,
     "metadata": {},
     "output_type": "execute_result"
    }
   ],
   "source": [
    "list(d6.items())"
   ]
  },
  {
   "cell_type": "code",
   "execution_count": 33,
   "id": "c21f7a4d-be0f-4d0e-b8bf-5e989f268c41",
   "metadata": {},
   "outputs": [
    {
     "data": {
      "text/plain": [
       "(1, 2, 3, 45)"
      ]
     },
     "execution_count": 33,
     "metadata": {},
     "output_type": "execute_result"
    }
   ],
   "source": [
    "d6.pop('assignment')"
   ]
  },
  {
   "cell_type": "code",
   "execution_count": 34,
   "id": "d38e368f-b92c-4812-9356-bd8bb5787ed4",
   "metadata": {},
   "outputs": [
    {
     "data": {
      "text/plain": [
       "{'launch date': {8, 23}, 'mentor': ['mohit', 'krish', 'ravi', 'pandey']}"
      ]
     },
     "execution_count": 34,
     "metadata": {},
     "output_type": "execute_result"
    }
   ],
   "source": [
    "d6"
   ]
  },
  {
   "cell_type": "code",
   "execution_count": 36,
   "id": "8f2e60a9-0e17-439e-a520-7652bf2ea156",
   "metadata": {},
   "outputs": [
    {
     "name": "stdin",
     "output_type": "stream",
     "text": [
      "enter your marks 20\n"
     ]
    },
    {
     "name": "stdout",
     "output_type": "stream",
     "text": [
      "you will be in A3 batch\n"
     ]
    }
   ],
   "source": [
    "marks= int(input('enter your marks'))\n",
    "if marks>= 80:\n",
    "    print('you will be in A0 batch')\n",
    "elif marks >=60 and marks <80:\n",
    "    print('you will be in A1 batch')\n",
    "elif marks >=40 and marks < 60:\n",
    "    print ('you will be in A2 batch')\n",
    "else:\n",
    "    print('you will be in A3 batch')"
   ]
  },
  {
   "cell_type": "code",
   "execution_count": 37,
   "id": "d67f89cc-06a7-417f-88ea-9c7586c29f3c",
   "metadata": {},
   "outputs": [],
   "source": [
    "l=[1,2,3,4,5,6,7,8,9]"
   ]
  },
  {
   "cell_type": "code",
   "execution_count": 38,
   "id": "cd557280-f10c-4819-ab0e-4c1aa6c0c6d8",
   "metadata": {},
   "outputs": [
    {
     "name": "stdout",
     "output_type": "stream",
     "text": [
      "1\n",
      "2\n",
      "3\n",
      "4\n",
      "5\n",
      "6\n",
      "7\n",
      "8\n",
      "9\n"
     ]
    }
   ],
   "source": [
    "for i in l:\n",
    "    print(i)"
   ]
  },
  {
   "cell_type": "code",
   "execution_count": 39,
   "id": "b03058bd-a8f1-47bb-a648-8a9d0d7daa3c",
   "metadata": {},
   "outputs": [
    {
     "name": "stdout",
     "output_type": "stream",
     "text": [
      "2\n",
      "3\n",
      "4\n",
      "5\n",
      "6\n",
      "7\n",
      "8\n",
      "9\n",
      "10\n"
     ]
    }
   ],
   "source": [
    "l1=[]\n",
    "for i in l:\n",
    "    print(i+1)\n",
    "    l1.append(i+1)"
   ]
  },
  {
   "cell_type": "code",
   "execution_count": 40,
   "id": "ca115648-b025-4272-b347-568c7cad9046",
   "metadata": {},
   "outputs": [],
   "source": [
    "l=['mohit','kumar','pwskills','data science']"
   ]
  },
  {
   "cell_type": "code",
   "execution_count": 41,
   "id": "0e5fdeab-5fae-44f0-ae39-5434dcb1d15c",
   "metadata": {},
   "outputs": [
    {
     "name": "stdout",
     "output_type": "stream",
     "text": [
      "mohit\n",
      "kumar\n",
      "pwskills\n",
      "data science\n"
     ]
    }
   ],
   "source": [
    "l1=[]\n",
    "for i in l:\n",
    "    print(i)\n",
    "    "
   ]
  },
  {
   "cell_type": "code",
   "execution_count": 42,
   "id": "d0fdff44-bf4a-44fd-a005-f658fd2ce9b7",
   "metadata": {},
   "outputs": [
    {
     "name": "stdout",
     "output_type": "stream",
     "text": [
      "mohit\n",
      "kumar\n",
      "pwskills\n",
      "data science\n"
     ]
    }
   ],
   "source": [
    "l1=[]\n",
    "for i in l:\n",
    "    print(i)\n",
    "    l1.append(i.upper())"
   ]
  },
  {
   "cell_type": "code",
   "execution_count": 43,
   "id": "aa8c1a49-1200-4fe8-ad8b-54fe04bbf54b",
   "metadata": {},
   "outputs": [
    {
     "data": {
      "text/plain": [
       "['MOHIT', 'KUMAR', 'PWSKILLS', 'DATA SCIENCE']"
      ]
     },
     "execution_count": 43,
     "metadata": {},
     "output_type": "execute_result"
    }
   ],
   "source": [
    "l1"
   ]
  },
  {
   "cell_type": "code",
   "execution_count": 44,
   "id": "16be8e3d-4dc1-452d-8060-2a9161447b6a",
   "metadata": {},
   "outputs": [],
   "source": [
    "l= [1,2,3,4,5,'mohit','kumar',34.345,'abc']"
   ]
  },
  {
   "cell_type": "code",
   "execution_count": 45,
   "id": "59a01bc4-c0e3-4849-9467-ef59baeb292a",
   "metadata": {},
   "outputs": [],
   "source": [
    "l1_num=[]\n",
    "l2_str=[]\n",
    "for i in l:\n",
    "    if type(i)== int or type(i)== float:\n",
    "        l1_num.append(i)\n",
    "    else:\n",
    "        l2_str.append(i)\n",
    "    "
   ]
  },
  {
   "cell_type": "code",
   "execution_count": 46,
   "id": "f2c3a7cc-68a8-4d7f-bfb2-9170a0a8068c",
   "metadata": {},
   "outputs": [
    {
     "data": {
      "text/plain": [
       "[1, 2, 3, 4, 5, 34.345]"
      ]
     },
     "execution_count": 46,
     "metadata": {},
     "output_type": "execute_result"
    }
   ],
   "source": [
    "l1_num"
   ]
  },
  {
   "cell_type": "code",
   "execution_count": 47,
   "id": "e1220f97-77b2-4f67-9f47-a18252391590",
   "metadata": {},
   "outputs": [
    {
     "data": {
      "text/plain": [
       "['mohit', 'kumar', 'abc']"
      ]
     },
     "execution_count": 47,
     "metadata": {},
     "output_type": "execute_result"
    }
   ],
   "source": [
    "l2_str"
   ]
  },
  {
   "cell_type": "code",
   "execution_count": 1,
   "id": "f25015e9-a2a1-49a5-a2d3-385a1b62c29b",
   "metadata": {},
   "outputs": [],
   "source": [
    "l= [1,2,3,4,5]"
   ]
  },
  {
   "cell_type": "code",
   "execution_count": 3,
   "id": "d0613bcf-0241-4a2b-969e-aff84a8410c1",
   "metadata": {},
   "outputs": [
    {
     "name": "stdout",
     "output_type": "stream",
     "text": [
      "1 <class 'int'>\n",
      "2 <class 'int'>\n",
      "3 <class 'int'>\n",
      "4 <class 'int'>\n",
      "5 <class 'int'>\n"
     ]
    }
   ],
   "source": [
    "for i in l:\n",
    "    print(i,type(i))"
   ]
  },
  {
   "cell_type": "code",
   "execution_count": 5,
   "id": "60894251-f7fc-440a-b37f-14cca8fe535a",
   "metadata": {},
   "outputs": [],
   "source": [
    "l1= ['mohit','kumar', 'sameer','ravi']"
   ]
  },
  {
   "cell_type": "code",
   "execution_count": 6,
   "id": "e8bba834-3d4a-40d4-a4fa-bc82fa2322cf",
   "metadata": {},
   "outputs": [
    {
     "name": "stdout",
     "output_type": "stream",
     "text": [
      "mohit <class 'str'>\n",
      "kumar <class 'str'>\n",
      "sameer <class 'str'>\n",
      "ravi <class 'str'>\n"
     ]
    }
   ],
   "source": [
    "for i in l1:\n",
    "    print(i,type(i) )"
   ]
  },
  {
   "cell_type": "code",
   "execution_count": 7,
   "id": "c8b4dfb4-b6b6-4fd4-b6fb-d3858ad79597",
   "metadata": {},
   "outputs": [
    {
     "name": "stdout",
     "output_type": "stream",
     "text": [
      "mohit\n",
      "kumar\n",
      "sameer\n",
      "ravi\n",
      "do something\n"
     ]
    }
   ],
   "source": [
    "for i in l1:\n",
    "    print(i)\n",
    "else:\n",
    "    print('do something')"
   ]
  },
  {
   "cell_type": "code",
   "execution_count": 9,
   "id": "30093310-21a6-4776-b3a4-416c1faa8be3",
   "metadata": {},
   "outputs": [
    {
     "name": "stdout",
     "output_type": "stream",
     "text": [
      "mohit\n",
      "kumar\n",
      "sameer\n",
      "ravi\n",
      "if for loop is able to complete itself then only else will execue\n"
     ]
    }
   ],
   "source": [
    "for i in l1:\n",
    "    print(i)\n",
    "else:\n",
    "    print('if for loop is able to complete itself then only else will execue')"
   ]
  },
  {
   "cell_type": "code",
   "execution_count": 10,
   "id": "7a53a7fa-2eba-401c-8a0d-865546926cc3",
   "metadata": {},
   "outputs": [
    {
     "name": "stdout",
     "output_type": "stream",
     "text": [
      "mohit\n",
      "kumar\n"
     ]
    }
   ],
   "source": [
    "for i in l1:\n",
    "    if i == 'sameer':\n",
    "        break\n",
    "    print(i)    "
   ]
  },
  {
   "cell_type": "code",
   "execution_count": 11,
   "id": "20473d33-174d-43af-a0de-d73e15547c5d",
   "metadata": {},
   "outputs": [
    {
     "data": {
      "text/plain": [
       "['mohit', 'kumar', 'sameer', 'ravi']"
      ]
     },
     "execution_count": 11,
     "metadata": {},
     "output_type": "execute_result"
    }
   ],
   "source": [
    "l1"
   ]
  },
  {
   "cell_type": "code",
   "execution_count": 12,
   "id": "b4de224b-bc9c-4e79-92ac-3af8ae239510",
   "metadata": {},
   "outputs": [
    {
     "name": "stdout",
     "output_type": "stream",
     "text": [
      "mohit\n",
      "kumar\n"
     ]
    }
   ],
   "source": [
    "for i in l1:\n",
    "    if i == 'sameer':\n",
    "        break\n",
    "    print(i)\n",
    "else:\n",
    "    print('execute this if for loop is able to complete itself')\n",
    "    "
   ]
  },
  {
   "cell_type": "code",
   "execution_count": 15,
   "id": "4a07bb1c-287c-437b-888c-7a49c44b6a65",
   "metadata": {},
   "outputs": [
    {
     "name": "stdout",
     "output_type": "stream",
     "text": [
      "mohit\n",
      "kumar\n",
      "ravi\n",
      "execute this if for loop is able to complete itself\n"
     ]
    }
   ],
   "source": [
    "for i in l1:\n",
    "    if i =='sameer':\n",
    "        continue\n",
    "    print(i)\n",
    "else:\n",
    "    print('execute this if for loop is able to complete itself')"
   ]
  },
  {
   "cell_type": "code",
   "execution_count": 16,
   "id": "c5b68fe7-5f0d-468b-8752-15a3fe70fd08",
   "metadata": {},
   "outputs": [
    {
     "data": {
      "text/plain": [
       "range(0, 5)"
      ]
     },
     "execution_count": 16,
     "metadata": {},
     "output_type": "execute_result"
    }
   ],
   "source": [
    "range(5)"
   ]
  },
  {
   "cell_type": "code",
   "execution_count": 17,
   "id": "f507e61e-ce2e-4bc9-ac9c-2d241096b085",
   "metadata": {},
   "outputs": [
    {
     "data": {
      "text/plain": [
       "[0, 1, 2, 3, 4]"
      ]
     },
     "execution_count": 17,
     "metadata": {},
     "output_type": "execute_result"
    }
   ],
   "source": [
    "list(range(5))"
   ]
  },
  {
   "cell_type": "code",
   "execution_count": 19,
   "id": "a1fabb4d-10e2-4814-86ed-7279b7715318",
   "metadata": {},
   "outputs": [
    {
     "data": {
      "text/plain": [
       "[0, 1, 2, 3, 4, 5, 6, 7, 8, 9, 10, 11, 12, 13, 14, 15, 16, 17, 18, 19]"
      ]
     },
     "execution_count": 19,
     "metadata": {},
     "output_type": "execute_result"
    }
   ],
   "source": [
    "list(range(0,20,1))"
   ]
  },
  {
   "cell_type": "code",
   "execution_count": 20,
   "id": "c2966b17-88a4-4e0c-b606-fd821978e195",
   "metadata": {},
   "outputs": [
    {
     "data": {
      "text/plain": [
       "[0, 2, 4, 6, 8, 10, 12, 14, 16, 18]"
      ]
     },
     "execution_count": 20,
     "metadata": {},
     "output_type": "execute_result"
    }
   ],
   "source": [
    "list(range(0,20,2))"
   ]
  },
  {
   "cell_type": "code",
   "execution_count": 21,
   "id": "8d0c3541-3ef8-4eae-944b-a82664a833d9",
   "metadata": {},
   "outputs": [
    {
     "data": {
      "text/plain": [
       "[-10, -8, -6, -4, -2]"
      ]
     },
     "execution_count": 21,
     "metadata": {},
     "output_type": "execute_result"
    }
   ],
   "source": [
    "list(range(-10,0,2))"
   ]
  },
  {
   "cell_type": "code",
   "execution_count": 22,
   "id": "59cca7fe-ddee-44c9-9ffc-51a50ffa009f",
   "metadata": {},
   "outputs": [
    {
     "data": {
      "text/plain": [
       "['mohit', 'kumar', 'sameer', 'ravi']"
      ]
     },
     "execution_count": 22,
     "metadata": {},
     "output_type": "execute_result"
    }
   ],
   "source": [
    "l1"
   ]
  },
  {
   "cell_type": "code",
   "execution_count": 23,
   "id": "2c3be599-64a5-4398-b159-512f3c974040",
   "metadata": {},
   "outputs": [
    {
     "data": {
      "text/plain": [
       "4"
      ]
     },
     "execution_count": 23,
     "metadata": {},
     "output_type": "execute_result"
    }
   ],
   "source": [
    "len(l1)"
   ]
  },
  {
   "cell_type": "code",
   "execution_count": 25,
   "id": "2d265578-6e57-4bf6-a05c-c04c892556f9",
   "metadata": {},
   "outputs": [
    {
     "data": {
      "text/plain": [
       "[0, 1, 2, 3]"
      ]
     },
     "execution_count": 25,
     "metadata": {},
     "output_type": "execute_result"
    }
   ],
   "source": [
    "list(range(len(l1)))"
   ]
  },
  {
   "cell_type": "code",
   "execution_count": 29,
   "id": "06080abd-200b-4dcd-b12a-5cf32954c06d",
   "metadata": {},
   "outputs": [
    {
     "name": "stdout",
     "output_type": "stream",
     "text": [
      "mohit\n",
      "kumar\n",
      "sameer\n",
      "ravi\n"
     ]
    }
   ],
   "source": [
    "for i in (range(len(l1))):\n",
    "          print (l1[i])"
   ]
  },
  {
   "cell_type": "code",
   "execution_count": 30,
   "id": "23b37dda-ad60-4371-9f34-0f911a6b692d",
   "metadata": {},
   "outputs": [
    {
     "data": {
      "text/plain": [
       "[3, 2, 1, 0]"
      ]
     },
     "execution_count": 30,
     "metadata": {},
     "output_type": "execute_result"
    }
   ],
   "source": [
    "list(range(len(l1)-1,-1,-1))"
   ]
  },
  {
   "cell_type": "code",
   "execution_count": 31,
   "id": "3cdb7c47-0288-41ea-9b79-ef9cc77d6134",
   "metadata": {},
   "outputs": [
    {
     "name": "stdout",
     "output_type": "stream",
     "text": [
      "ravi\n",
      "sameer\n",
      "kumar\n",
      "mohit\n"
     ]
    }
   ],
   "source": [
    "for i in range(len(l1)-1,-1,-1):\n",
    "    print (l1[i])"
   ]
  },
  {
   "cell_type": "code",
   "execution_count": 32,
   "id": "de7a145b-9689-4cc6-80ea-e14f0cda871c",
   "metadata": {},
   "outputs": [],
   "source": [
    "l2 = [122,33,2,3,5,55,66,77,888,88896]"
   ]
  },
  {
   "cell_type": "code",
   "execution_count": 33,
   "id": "d3a2f52c-cc28-46c3-94c0-0a917e53de4f",
   "metadata": {},
   "outputs": [
    {
     "data": {
      "text/plain": [
       "[0, 2, 4, 6, 8]"
      ]
     },
     "execution_count": 33,
     "metadata": {},
     "output_type": "execute_result"
    }
   ],
   "source": [
    "90list(range(0,len(l2),2))"
   ]
  },
  {
   "cell_type": "code",
   "execution_count": 35,
   "id": "0ff23611-b97d-400a-bcf3-3766e349ff0b",
   "metadata": {},
   "outputs": [
    {
     "name": "stdout",
     "output_type": "stream",
     "text": [
      "122\n",
      "2\n",
      "5\n",
      "66\n",
      "888\n"
     ]
    }
   ],
   "source": [
    "for i in range(0,len(l2),2):\n",
    "    print (l2[i])"
   ]
  },
  {
   "cell_type": "code",
   "execution_count": 36,
   "id": "9d64955c-77f8-4639-83b8-42a7d08aa72f",
   "metadata": {},
   "outputs": [],
   "source": [
    "l= [31,3,4,5,665,4]"
   ]
  },
  {
   "cell_type": "code",
   "execution_count": 37,
   "id": "8fe2f08d-a99d-402f-8ebb-fbd9378efa97",
   "metadata": {},
   "outputs": [
    {
     "data": {
      "text/plain": [
       "712"
      ]
     },
     "execution_count": 37,
     "metadata": {},
     "output_type": "execute_result"
    }
   ],
   "source": [
    "sum(l)"
   ]
  },
  {
   "cell_type": "code",
   "execution_count": 40,
   "id": "d64e0237-9188-4b84-a063-86526c83fcb8",
   "metadata": {},
   "outputs": [
    {
     "name": "stdout",
     "output_type": "stream",
     "text": [
      "712\n"
     ]
    }
   ],
   "source": [
    "result= 0\n",
    "for i in l:\n",
    "    result= result+i\n",
    "print(result)   "
   ]
  },
  {
   "cell_type": "code",
   "execution_count": null,
   "id": "8ee24030-69de-4597-8bc2-65adef2b6419",
   "metadata": {},
   "outputs": [],
   "source": []
  }
 ],
 "metadata": {
  "kernelspec": {
   "display_name": "Python 3 (ipykernel)",
   "language": "python",
   "name": "python3"
  },
  "language_info": {
   "codemirror_mode": {
    "name": "ipython",
    "version": 3
   },
   "file_extension": ".py",
   "mimetype": "text/x-python",
   "name": "python",
   "nbconvert_exporter": "python",
   "pygments_lexer": "ipython3",
   "version": "3.10.8"
  }
 },
 "nbformat": 4,
 "nbformat_minor": 5
}
