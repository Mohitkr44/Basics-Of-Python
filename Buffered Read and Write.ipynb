{
 "cells": [
  {
   "cell_type": "code",
   "execution_count": 1,
   "id": "615eb03f-2534-4e47-9675-5cc9af753399",
   "metadata": {},
   "outputs": [],
   "source": [
    "import io"
   ]
  },
  {
   "cell_type": "code",
   "execution_count": 5,
   "id": "613ebd30-7856-4428-8284-015fbd4623aa",
   "metadata": {},
   "outputs": [],
   "source": [
    "with open('test1.txt','wb') as f:\n",
    "    file= io.BufferedWriter(f)\n",
    "    \n",
    "    file.write(b'this is my first line \\n')\n",
    "    file.write(b'this is my second line \\n')\n",
    "    file.flush()"
   ]
  },
  {
   "cell_type": "code",
   "execution_count": 7,
   "id": "9d75caf2-9cde-433c-99d4-6ef440d7f2cc",
   "metadata": {},
   "outputs": [
    {
     "name": "stdout",
     "output_type": "stream",
     "text": [
      "b'this is my first line \\nthis is my second line \\n'\n"
     ]
    }
   ],
   "source": [
    "with open('test1.txt','rb') as f:\n",
    "    file= io.BufferedReader(f)\n",
    "    data=file.read()\n",
    "    print(data)"
   ]
  },
  {
   "cell_type": "code",
   "execution_count": null,
   "id": "c75d467a-7b0b-4657-b3fd-406c012b11bd",
   "metadata": {},
   "outputs": [],
   "source": []
  }
 ],
 "metadata": {
  "kernelspec": {
   "display_name": "Python 3 (ipykernel)",
   "language": "python",
   "name": "python3"
  },
  "language_info": {
   "codemirror_mode": {
    "name": "ipython",
    "version": 3
   },
   "file_extension": ".py",
   "mimetype": "text/x-python",
   "name": "python",
   "nbconvert_exporter": "python",
   "pygments_lexer": "ipython3",
   "version": "3.10.8"
  }
 },
 "nbformat": 4,
 "nbformat_minor": 5
}
