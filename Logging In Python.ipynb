{
 "cells": [
  {
   "cell_type": "code",
   "execution_count": 1,
   "id": "7787146b-236b-4a59-b437-3509c7ba259e",
   "metadata": {},
   "outputs": [
    {
     "name": "stdout",
     "output_type": "stream",
     "text": [
      "this is my print\n"
     ]
    }
   ],
   "source": [
    "print('this is my print')"
   ]
  },
  {
   "cell_type": "code",
   "execution_count": 2,
   "id": "a21d4d9d-b3e0-4165-bb95-7d7806010733",
   "metadata": {},
   "outputs": [],
   "source": [
    "import logging "
   ]
  },
  {
   "cell_type": "code",
   "execution_count": 3,
   "id": "5f1dde7a-ff38-4c79-9295-cc79be258aa7",
   "metadata": {},
   "outputs": [],
   "source": [
    "logging.basicConfig(filename='test.log',level= logging.INFO)"
   ]
  },
  {
   "cell_type": "code",
   "execution_count": 4,
   "id": "49db197a-8563-42cb-8dda-12dcc60ff978",
   "metadata": {},
   "outputs": [],
   "source": [
    "logging.info('log this line of execution')"
   ]
  },
  {
   "cell_type": "code",
   "execution_count": 5,
   "id": "2d4d2042-733a-43e4-9aaa-51fae18a1514",
   "metadata": {},
   "outputs": [],
   "source": [
    "logging.info('this is my print')"
   ]
  },
  {
   "cell_type": "code",
   "execution_count": 7,
   "id": "766211df-9820-478d-8b0d-ee81b70fb137",
   "metadata": {},
   "outputs": [
    {
     "ename": "SyntaxError",
     "evalue": "invalid syntax (2768590703.py, line 1)",
     "output_type": "error",
     "traceback": [
      "\u001b[0;36m  Cell \u001b[0;32mIn[7], line 1\u001b[0;36m\u001b[0m\n\u001b[0;31m    1. NOTSET\u001b[0m\n\u001b[0m       ^\u001b[0m\n\u001b[0;31mSyntaxError\u001b[0m\u001b[0;31m:\u001b[0m invalid syntax\n"
     ]
    }
   ],
   "source": [
    "1. NOTSET\n",
    "2. DEBUG\n",
    "3. INFO\n",
    "4. WARNING\n",
    "5. ERROR\n",
    "6. CRITICAL"
   ]
  },
  {
   "cell_type": "code",
   "execution_count": 6,
   "id": "559682a4-f1ed-47b0-a895-2b0e8e5885ac",
   "metadata": {},
   "outputs": [],
   "source": [
    "logging.warning('this is my warning')"
   ]
  },
  {
   "cell_type": "code",
   "execution_count": 9,
   "id": "63f5c168-3b6e-490c-8646-ce905f4bd1dc",
   "metadata": {},
   "outputs": [],
   "source": [
    "logging.error('this is my error')"
   ]
  },
  {
   "cell_type": "code",
   "execution_count": 10,
   "id": "fa6b1290-1fe1-4a86-98f7-016223b24ce3",
   "metadata": {},
   "outputs": [],
   "source": [
    "logging.shutdown()"
   ]
  },
  {
   "cell_type": "code",
   "execution_count": 1,
   "id": "e1a491cf-7c40-4f5b-af11-46bf60b20b2f",
   "metadata": {},
   "outputs": [],
   "source": [
    "import logging"
   ]
  },
  {
   "cell_type": "code",
   "execution_count": 3,
   "id": "145b7c03-2263-4e15-8cad-61821d1bee97",
   "metadata": {},
   "outputs": [],
   "source": [
    "logging.basicConfig(filename='test1.log',level= logging.debug,format= '%(asctime)s %(message)s')"
   ]
  },
  {
   "cell_type": "code",
   "execution_count": 4,
   "id": "3dae17be-f24a-4005-9d1e-8581609775e2",
   "metadata": {},
   "outputs": [],
   "source": [
    "logging.info('this is my info msg')\n",
    "logging.error('this my error msg')\n",
    "logging.critical('this my critical msg')"
   ]
  },
  {
   "cell_type": "code",
   "execution_count": 10,
   "id": "3d57362b-811b-4fae-ba38-60914e05b9cb",
   "metadata": {},
   "outputs": [],
   "source": [
    "l= [1,2,33,44,5,[5,6,7],'mohit','kumar']"
   ]
  },
  {
   "cell_type": "code",
   "execution_count": 11,
   "id": "dfc9e89a-80f9-43bd-b6b8-925e03cdfaec",
   "metadata": {},
   "outputs": [],
   "source": [
    "import logging"
   ]
  },
  {
   "cell_type": "code",
   "execution_count": 12,
   "id": "439db617-f323-4116-9566-201a6d7c23b0",
   "metadata": {},
   "outputs": [],
   "source": [
    "logging.basicConfig(filename='test2.log',level= logging.info,format= '%(asctime)s %(message)s')"
   ]
  },
  {
   "cell_type": "code",
   "execution_count": 13,
   "id": "2254588f-d60d-471b-bee7-2c4b834426e7",
   "metadata": {},
   "outputs": [],
   "source": [
    "l1_int=[]\n",
    "l2_str=[]\n",
    "for i in l:\n",
    "    if type(i)==list:\n",
    "        for j in i:\n",
    "            if type(j)== int:\n",
    "                l1_int.append(j)\n",
    "    elif type(i)== int:\n",
    "        l1_int.append(i)\n",
    "    else:\n",
    "        if type(i)== str:\n",
    "            l2_str.append(i)"
   ]
  },
  {
   "cell_type": "code",
   "execution_count": 14,
   "id": "5178b386-1091-417b-b99e-7d24f7a5c361",
   "metadata": {},
   "outputs": [
    {
     "data": {
      "text/plain": [
       "[1, 2, 33, 44, 5, 5, 6, 7]"
      ]
     },
     "execution_count": 14,
     "metadata": {},
     "output_type": "execute_result"
    }
   ],
   "source": [
    "l1_int"
   ]
  },
  {
   "cell_type": "code",
   "execution_count": 15,
   "id": "ebb0cc56-bdc7-4c14-8ad6-d8ec93aa41f9",
   "metadata": {},
   "outputs": [
    {
     "data": {
      "text/plain": [
       "['mohit', 'kumar']"
      ]
     },
     "execution_count": 15,
     "metadata": {},
     "output_type": "execute_result"
    }
   ],
   "source": [
    "l2_str"
   ]
  },
  {
   "cell_type": "code",
   "execution_count": 17,
   "id": "370edac7-95e0-4a04-8f54-3e1545950f1d",
   "metadata": {},
   "outputs": [],
   "source": [
    "l1_int=[]\n",
    "l2_str=[]\n",
    "for i in l:\n",
    "    logging.info('we are iterating through our list and oyr local variable is i')\n",
    "    if type(i)==list:\n",
    "        logging.info('i am inside if statement and i am trying to check the list type')\n",
    "        for j in i:\n",
    "            logging.info('i am in another for loop for list inside list element ')\n",
    "            if type(j)== int:\n",
    "                logging.info('i am inside if statement')\n",
    "                l1_int.append(j)\n",
    "    elif type(i)== int:\n",
    "        l1_int.append(i)\n",
    "    else:\n",
    "        if type(i)== str:\n",
    "            l2_str.append(i)"
   ]
  },
  {
   "cell_type": "code",
   "execution_count": null,
   "id": "42445bbd-4763-4942-a0e6-27ec2ea0bc31",
   "metadata": {},
   "outputs": [],
   "source": []
  }
 ],
 "metadata": {
  "kernelspec": {
   "display_name": "Python 3 (ipykernel)",
   "language": "python",
   "name": "python3"
  },
  "language_info": {
   "codemirror_mode": {
    "name": "ipython",
    "version": 3
   },
   "file_extension": ".py",
   "mimetype": "text/x-python",
   "name": "python",
   "nbconvert_exporter": "python",
   "pygments_lexer": "ipython3",
   "version": "3.10.8"
  }
 },
 "nbformat": 4,
 "nbformat_minor": 5
}
