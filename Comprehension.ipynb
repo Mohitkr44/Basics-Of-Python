{
 "cells": [
  {
   "cell_type": "code",
   "execution_count": 1,
   "id": "2f1fb6a6-791c-4881-9f39-a4e5681c836f",
   "metadata": {},
   "outputs": [],
   "source": [
    "l= [1,2,3,4,5,6,77]"
   ]
  },
  {
   "cell_type": "code",
   "execution_count": 2,
   "id": "dbab8140-9302-44ef-a625-da2257374a1d",
   "metadata": {},
   "outputs": [],
   "source": [
    "l= [1,2,3,4,5,6,77]\n",
    "l1=[]\n",
    "for i in l:\n",
    "    l1.append(i**2)"
   ]
  },
  {
   "cell_type": "code",
   "execution_count": 3,
   "id": "61ddee61-5966-47ce-9345-48c738ae9a6f",
   "metadata": {},
   "outputs": [
    {
     "data": {
      "text/plain": [
       "[1, 4, 9, 16, 25, 36, 5929]"
      ]
     },
     "execution_count": 3,
     "metadata": {},
     "output_type": "execute_result"
    }
   ],
   "source": [
    "l1"
   ]
  },
  {
   "cell_type": "code",
   "execution_count": 4,
   "id": "4b9ba477-8cf6-40fc-907e-2aa4ab215401",
   "metadata": {},
   "outputs": [
    {
     "data": {
      "text/plain": [
       "[1, 2, 3, 4, 5, 6, 77]"
      ]
     },
     "execution_count": 4,
     "metadata": {},
     "output_type": "execute_result"
    }
   ],
   "source": [
    "l"
   ]
  },
  {
   "cell_type": "code",
   "execution_count": 6,
   "id": "4ec92801-562d-4ece-bf28-dfc41c2a30e5",
   "metadata": {},
   "outputs": [
    {
     "data": {
      "text/plain": [
       "[1, 4, 9, 16, 25, 36, 5929]"
      ]
     },
     "execution_count": 6,
     "metadata": {},
     "output_type": "execute_result"
    }
   ],
   "source": [
    "[i**2 for i in l]"
   ]
  },
  {
   "cell_type": "code",
   "execution_count": 7,
   "id": "12e64877-69e8-4a41-9e8e-629da55fe14a",
   "metadata": {},
   "outputs": [
    {
     "data": {
      "text/plain": [
       "[1, 2, 3, 4, 5, 6, 77]"
      ]
     },
     "execution_count": 7,
     "metadata": {},
     "output_type": "execute_result"
    }
   ],
   "source": [
    "l"
   ]
  },
  {
   "cell_type": "code",
   "execution_count": 9,
   "id": "96d06330-0c36-440d-97a4-bd7a4f31ef01",
   "metadata": {},
   "outputs": [
    {
     "data": {
      "text/plain": [
       "[2, 4, 6]"
      ]
     },
     "execution_count": 9,
     "metadata": {},
     "output_type": "execute_result"
    }
   ],
   "source": [
    "[i for i in l if i%2== 0]"
   ]
  },
  {
   "cell_type": "code",
   "execution_count": 10,
   "id": "1f154d36-0679-4348-a28f-ed556121d620",
   "metadata": {},
   "outputs": [],
   "source": [
    "l1 = ['mohit','kumar','data science','course']"
   ]
  },
  {
   "cell_type": "code",
   "execution_count": 11,
   "id": "6c1518df-ab06-4159-810b-ee46fdea65bb",
   "metadata": {},
   "outputs": [
    {
     "data": {
      "text/plain": [
       "['MOHIT', 'KUMAR', 'DATA SCIENCE', 'COURSE']"
      ]
     },
     "execution_count": 11,
     "metadata": {},
     "output_type": "execute_result"
    }
   ],
   "source": [
    "[i.upper() for i in l1]"
   ]
  },
  {
   "cell_type": "code",
   "execution_count": null,
   "id": "fbe52006-0f41-4d27-89d8-21216a1952ec",
   "metadata": {},
   "outputs": [],
   "source": []
  }
 ],
 "metadata": {
  "kernelspec": {
   "display_name": "Python 3 (ipykernel)",
   "language": "python",
   "name": "python3"
  },
  "language_info": {
   "codemirror_mode": {
    "name": "ipython",
    "version": 3
   },
   "file_extension": ".py",
   "mimetype": "text/x-python",
   "name": "python",
   "nbconvert_exporter": "python",
   "pygments_lexer": "ipython3",
   "version": "3.10.8"
  }
 },
 "nbformat": 4,
 "nbformat_minor": 5
}
