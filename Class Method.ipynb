{
 "cells": [
  {
   "cell_type": "code",
   "execution_count": 2,
   "id": "e944b3cb-c059-4053-a6bc-21932178aa91",
   "metadata": {},
   "outputs": [],
   "source": [
    "class pwskills:\n",
    "    def __init__(self,name,email):\n",
    "        \n",
    "        self.name= name\n",
    "        self.email= email\n",
    "     \n",
    "    def student_details(self):\n",
    "        print(self.name,self.email)\n",
    "        \n",
    "        "
   ]
  },
  {
   "cell_type": "code",
   "execution_count": 3,
   "id": "9f78ce59-45b2-4d0c-af62-cbe9794d2ba1",
   "metadata": {},
   "outputs": [],
   "source": [
    "pw= pwskills('mohan','mohan@gmail,com')"
   ]
  },
  {
   "cell_type": "code",
   "execution_count": 4,
   "id": "049158e0-945f-4d21-afc5-9a06a0a8ea66",
   "metadata": {},
   "outputs": [
    {
     "data": {
      "text/plain": [
       "'mohan'"
      ]
     },
     "execution_count": 4,
     "metadata": {},
     "output_type": "execute_result"
    }
   ],
   "source": [
    "pw.name"
   ]
  },
  {
   "cell_type": "code",
   "execution_count": 5,
   "id": "fa9752e1-c85a-4561-93ee-136fd36b0e9a",
   "metadata": {},
   "outputs": [
    {
     "data": {
      "text/plain": [
       "'mohan@gmail,com'"
      ]
     },
     "execution_count": 5,
     "metadata": {},
     "output_type": "execute_result"
    }
   ],
   "source": [
    "pw.email"
   ]
  },
  {
   "cell_type": "code",
   "execution_count": 7,
   "id": "f673954e-29ef-4b2a-8b82-2d02397a652e",
   "metadata": {},
   "outputs": [
    {
     "name": "stdout",
     "output_type": "stream",
     "text": [
      "mohan mohan@gmail,com\n"
     ]
    }
   ],
   "source": [
    "pw.student_details()"
   ]
  },
  {
   "cell_type": "code",
   "execution_count": 8,
   "id": "b95b7d4d-62f0-4cf6-89ec-f48458f9a6c3",
   "metadata": {},
   "outputs": [],
   "source": [
    "class pwskills1:\n",
    "    def __init__(self,name,email):\n",
    "        \n",
    "        self.name= name\n",
    "        self.email= email\n",
    "        \n",
    "    @classmethod    \n",
    "    def details(cls,name,email):\n",
    "        return cls(name,email)\n",
    "     \n",
    "    def student_details(self):\n",
    "        print(self.name,self.email)\n",
    "        "
   ]
  },
  {
   "cell_type": "code",
   "execution_count": 9,
   "id": "feca9f88-8c87-48cf-ae6a-4f4b1ecd591f",
   "metadata": {},
   "outputs": [
    {
     "ename": "TypeError",
     "evalue": "pwskills1.details() missing 2 required positional arguments: 'name' and 'email'",
     "output_type": "error",
     "traceback": [
      "\u001b[0;31m---------------------------------------------------------------------------\u001b[0m",
      "\u001b[0;31mTypeError\u001b[0m                                 Traceback (most recent call last)",
      "Cell \u001b[0;32mIn[9], line 1\u001b[0m\n\u001b[0;32m----> 1\u001b[0m \u001b[43mpwskills1\u001b[49m\u001b[38;5;241;43m.\u001b[39;49m\u001b[43mdetails\u001b[49m\u001b[43m(\u001b[49m\u001b[43m)\u001b[49m\n",
      "\u001b[0;31mTypeError\u001b[0m: pwskills1.details() missing 2 required positional arguments: 'name' and 'email'"
     ]
    }
   ],
   "source": [
    "pwskills1.details()"
   ]
  },
  {
   "cell_type": "code",
   "execution_count": 10,
   "id": "70fa0e1c-7303-4759-b8ad-5d99ec001f93",
   "metadata": {},
   "outputs": [
    {
     "data": {
      "text/plain": [
       "<__main__.pwskills1 at 0x7f39fc2eb9d0>"
      ]
     },
     "execution_count": 10,
     "metadata": {},
     "output_type": "execute_result"
    }
   ],
   "source": [
    "pwskills1.details('mohit','mohit@gmail.com')"
   ]
  },
  {
   "cell_type": "code",
   "execution_count": 11,
   "id": "6649e1e9-7ff9-446d-80e6-3209acaaf155",
   "metadata": {},
   "outputs": [],
   "source": [
    "pw1= pwskills1.details('mohit','mohit@gmail.com')"
   ]
  },
  {
   "cell_type": "code",
   "execution_count": 12,
   "id": "daa2482d-382e-4ca8-95ed-5470854e370a",
   "metadata": {},
   "outputs": [
    {
     "data": {
      "text/plain": [
       "'mohit'"
      ]
     },
     "execution_count": 12,
     "metadata": {},
     "output_type": "execute_result"
    }
   ],
   "source": [
    "pw1.name"
   ]
  },
  {
   "cell_type": "code",
   "execution_count": 13,
   "id": "1a7381d2-8602-4ca8-bd44-dbbd248ae4ee",
   "metadata": {},
   "outputs": [
    {
     "data": {
      "text/plain": [
       "'mohit@gmail.com'"
      ]
     },
     "execution_count": 13,
     "metadata": {},
     "output_type": "execute_result"
    }
   ],
   "source": [
    "pw1.email"
   ]
  },
  {
   "cell_type": "code",
   "execution_count": 14,
   "id": "cdc74c88-82a7-4d09-97e5-09266d61dea7",
   "metadata": {},
   "outputs": [
    {
     "name": "stdout",
     "output_type": "stream",
     "text": [
      "mohit mohit@gmail.com\n"
     ]
    }
   ],
   "source": [
    "pw1.student_details()"
   ]
  },
  {
   "cell_type": "code",
   "execution_count": 15,
   "id": "a8c0b0c3-bc9a-4b34-a5ca-dd4de665dc16",
   "metadata": {},
   "outputs": [],
   "source": [
    "class pwskills2:\n",
    "    mobile_num= 9182834505\n",
    "    \n",
    "    def __init__(self,name,email):\n",
    "        \n",
    "        self.name= name\n",
    "        self.email= email\n",
    "        \n",
    "    @classmethod    \n",
    "    def details(cls,name,email):\n",
    "        return cls(name,email)\n",
    "     \n",
    "    def student_details(self):\n",
    "        print(self.name,self.email)\n",
    "        "
   ]
  },
  {
   "cell_type": "code",
   "execution_count": 16,
   "id": "c167a483-4ed5-4c13-a197-dd4ca058a8ef",
   "metadata": {},
   "outputs": [
    {
     "data": {
      "text/plain": [
       "9182834505"
      ]
     },
     "execution_count": 16,
     "metadata": {},
     "output_type": "execute_result"
    }
   ],
   "source": [
    "pwskills2.mobile_num"
   ]
  },
  {
   "cell_type": "code",
   "execution_count": 23,
   "id": "12983e1f-2f6b-43a8-b7a2-314102e5a9fb",
   "metadata": {},
   "outputs": [],
   "source": [
    "class pwskills2:\n",
    "    mobile_num= 9182834505\n",
    "    \n",
    "    def __init__(self,name,email):\n",
    "        \n",
    "        self.name= name\n",
    "        self.email= email\n",
    "    @classmethod\n",
    "    \n",
    "    def change_number(cls,mobile):\n",
    "        pwskills2.mobile_num=mobile\n",
    "   \n",
    "\n",
    "    @classmethod    \n",
    "    def details(cls,name,email):\n",
    "        return cls(name,email)\n",
    "     \n",
    "    def student_details(self):\n",
    "        print(self.name,self.email,pwskills2.mobile_num)\n",
    "        "
   ]
  },
  {
   "cell_type": "code",
   "execution_count": 20,
   "id": "cd58b696-c43d-4340-8d79-b9ec7f756986",
   "metadata": {},
   "outputs": [],
   "source": [
    "pwskills2.change_number(9478576833)"
   ]
  },
  {
   "cell_type": "code",
   "execution_count": 22,
   "id": "ac601404-2dc3-449c-a332-ebb07c290d75",
   "metadata": {},
   "outputs": [
    {
     "data": {
      "text/plain": [
       "9478576833"
      ]
     },
     "execution_count": 22,
     "metadata": {},
     "output_type": "execute_result"
    }
   ],
   "source": [
    "pwskills2.mobile_num"
   ]
  },
  {
   "cell_type": "code",
   "execution_count": 24,
   "id": "9556656d-18b9-422c-bb48-e1ac52d3e0a3",
   "metadata": {},
   "outputs": [],
   "source": [
    "pw_obj= pwskills2('mohit','mohit@gmail.com')"
   ]
  },
  {
   "cell_type": "code",
   "execution_count": 25,
   "id": "937c5c4f-421f-46ea-80b1-29ca894ea3e9",
   "metadata": {},
   "outputs": [
    {
     "name": "stdout",
     "output_type": "stream",
     "text": [
      "mohit mohit@gmail.com 9182834505\n"
     ]
    }
   ],
   "source": [
    "pw_obj.student_details()"
   ]
  },
  {
   "cell_type": "code",
   "execution_count": 26,
   "id": "4676059e-a7f2-4d21-973b-cdc7236651ff",
   "metadata": {},
   "outputs": [],
   "source": [
    "pws=pwskills2.details('ravi','ravi@gmail.com')"
   ]
  },
  {
   "cell_type": "code",
   "execution_count": 27,
   "id": "cde4d788-a61c-45d2-908a-16ce8ea818ac",
   "metadata": {},
   "outputs": [
    {
     "name": "stdout",
     "output_type": "stream",
     "text": [
      "ravi ravi@gmail.com 9182834505\n"
     ]
    }
   ],
   "source": [
    "pws.student_details()"
   ]
  },
  {
   "cell_type": "code",
   "execution_count": 28,
   "id": "4b79030e-2c8f-4a29-a490-7ed4d1f377b8",
   "metadata": {},
   "outputs": [],
   "source": [
    "class pwskills3:\n",
    "    mobile_num= 9182834505\n",
    "    \n",
    "    def __init__(self,name,email):\n",
    "        \n",
    "        self.name= name\n",
    "        self.email= email\n",
    "    @classmethod\n",
    "    \n",
    "    def change_number(cls,mobile):\n",
    "        pwskills3.mobile_num=mobile\n",
    "   \n",
    "\n",
    "    @classmethod    \n",
    "    def details(cls,name,email):\n",
    "        return cls(name,email)\n",
    "     \n",
    "    def student_details(self):\n",
    "        print(self.name,self.email,pwskills3.mobile_num)\n",
    "        "
   ]
  },
  {
   "cell_type": "code",
   "execution_count": 29,
   "id": "72637826-5cd9-4fe7-a54e-7c6d20408787",
   "metadata": {},
   "outputs": [],
   "source": [
    "def course_details(cls,course_name):\n",
    "    print('course name is',course_name)"
   ]
  },
  {
   "cell_type": "code",
   "execution_count": 30,
   "id": "54e83805-e115-4715-b351-979633c0f851",
   "metadata": {},
   "outputs": [],
   "source": [
    "pwskills3.course_details= classmethod(course_details)"
   ]
  },
  {
   "cell_type": "code",
   "execution_count": 31,
   "id": "37b7e232-194d-4119-a32d-6e01a7e60477",
   "metadata": {},
   "outputs": [
    {
     "name": "stdout",
     "output_type": "stream",
     "text": [
      "course name is data science masters\n"
     ]
    }
   ],
   "source": [
    "\n",
    "pwskills3.course_details('data science masters')"
   ]
  },
  {
   "cell_type": "code",
   "execution_count": 32,
   "id": "5698266a-dabb-448d-9eee-6e176ebcab0b",
   "metadata": {},
   "outputs": [],
   "source": [
    "def mentor(cls,list_of_mentor):\n",
    "    print(list_of_mentor)"
   ]
  },
  {
   "cell_type": "code",
   "execution_count": 33,
   "id": "278a2cd6-ec2c-40e1-9a92-00ba19dc73c0",
   "metadata": {},
   "outputs": [],
   "source": [
    "pwskills3.mentor= classmethod(mentor)"
   ]
  },
  {
   "cell_type": "code",
   "execution_count": 37,
   "id": "009ce46e-452e-4f88-8b17-42aa41fb867b",
   "metadata": {},
   "outputs": [
    {
     "name": "stdout",
     "output_type": "stream",
     "text": [
      "['mohit', 'sudh', 'kumar']\n"
     ]
    }
   ],
   "source": [
    "pwskills3.mentor(['mohit','sudh','kumar'])"
   ]
  },
  {
   "cell_type": "code",
   "execution_count": 38,
   "id": "158ce740-abb6-47c7-bc6a-912539d64c71",
   "metadata": {},
   "outputs": [],
   "source": [
    "class pwskills4:\n",
    "    mobile_num= 9182834505\n",
    "    \n",
    "    def __init__(self,name,email):\n",
    "        \n",
    "        self.name= name\n",
    "        self.email= email\n",
    "    @classmethod\n",
    "    \n",
    "    def change_number(cls,mobile):\n",
    "        pwskills4.mobile_num=mobile\n",
    "   \n",
    "\n",
    "    @classmethod    \n",
    "    def details(cls,name,email):\n",
    "        return cls(name,email)\n",
    "     \n",
    "    def student_details(self):\n",
    "        print(self.name,self.email,pwskills4.mobile_num)\n",
    "        "
   ]
  },
  {
   "cell_type": "code",
   "execution_count": 39,
   "id": "a2fc5e2b-9c8f-4466-9247-ab50b62effe7",
   "metadata": {},
   "outputs": [],
   "source": [
    "del pwskills4.details"
   ]
  },
  {
   "cell_type": "code",
   "execution_count": 41,
   "id": "3146a342-7af1-43c7-bf41-09385146250e",
   "metadata": {},
   "outputs": [],
   "source": [
    "delattr(pwskills4,'mobile_num')"
   ]
  },
  {
   "cell_type": "code",
   "execution_count": null,
   "id": "22f67b98-1eba-4d7b-a400-cec7c1cd4038",
   "metadata": {},
   "outputs": [],
   "source": []
  }
 ],
 "metadata": {
  "kernelspec": {
   "display_name": "Python 3 (ipykernel)",
   "language": "python",
   "name": "python3"
  },
  "language_info": {
   "codemirror_mode": {
    "name": "ipython",
    "version": 3
   },
   "file_extension": ".py",
   "mimetype": "text/x-python",
   "name": "python",
   "nbconvert_exporter": "python",
   "pygments_lexer": "ipython3",
   "version": "3.10.8"
  }
 },
 "nbformat": 4,
 "nbformat_minor": 5
}
