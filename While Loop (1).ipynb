{
 "cells": [
  {
   "cell_type": "code",
   "execution_count": 1,
   "id": "3e9cc21c-c025-4f48-bd71-f7eec0c62210",
   "metadata": {},
   "outputs": [
    {
     "name": "stdout",
     "output_type": "stream",
     "text": [
      "1\n",
      "2\n",
      "3\n",
      "4\n",
      "5\n",
      "6\n",
      "7\n",
      "8\n",
      "9\n",
      "10\n"
     ]
    }
   ],
   "source": [
    "a=1\n",
    "while a<=10:\n",
    "    print(a)\n",
    "    a= a+1"
   ]
  },
  {
   "cell_type": "markdown",
   "id": "bf6d5e7f-0b50-4f1c-844c-c3da9dbc5b35",
   "metadata": {},
   "source": [
    "#sum up the number till some point"
   ]
  },
  {
   "cell_type": "code",
   "execution_count": 4,
   "id": "f5072c87-b657-4751-af25-9b4357db7b90",
   "metadata": {},
   "outputs": [
    {
     "name": "stdin",
     "output_type": "stream",
     "text": [
      "enter your limit 40\n"
     ]
    },
    {
     "data": {
      "text/plain": [
       "820"
      ]
     },
     "execution_count": 4,
     "metadata": {},
     "output_type": "execute_result"
    }
   ],
   "source": [
    "n = int(input('enter your limit'))\n",
    "starting_point = 0\n",
    "counter = 1\n",
    "\n",
    "while counter<= n:\n",
    "    starting_point = starting_point + counter\n",
    "    counter= counter+1\n",
    "starting_point    \n",
    "    "
   ]
  },
  {
   "cell_type": "code",
   "execution_count": null,
   "id": "6d54fab6-e308-485d-8775-ec8c89be366a",
   "metadata": {},
   "outputs": [],
   "source": [
    "number = int(input('enter your number'))\n",
    "factorial = 1\n",
    "while number > 0:\n",
    "    factorial = factorial* number\n",
    "    number = number-1\n",
    "factorial"
   ]
  },
  {
   "cell_type": "code",
   "execution_count": null,
   "id": "301e1939-48d7-4c13-b7e9-7774a61cc869",
   "metadata": {},
   "outputs": [],
   "source": [
    "number = int(input('enter your number'))\n",
    "factorial = 1\n",
    "while number >0:\n",
    "    factorial = factorial*number\n",
    "    number = number-1\n",
    "factorial    "
   ]
  },
  {
   "cell_type": "code",
   "execution_count": null,
   "id": "f93a1607-d030-41d1-a5a0-2fc097c7c47d",
   "metadata": {},
   "outputs": [],
   "source": [
    "number = int(input('enter your number'))\n",
    "factorial = 1\n",
    "while number >0:\n",
    "    factorial = factorial*number\n",
    "    number = number-1\n",
    "factorial\n",
    "    \n",
    "   "
   ]
  },
  {
   "cell_type": "code",
   "execution_count": null,
   "id": "93247180-a3a6-4bc1-9836-e86e1e0ef614",
   "metadata": {},
   "outputs": [],
   "source": []
  }
 ],
 "metadata": {
  "kernelspec": {
   "display_name": "Python 3 (ipykernel)",
   "language": "python",
   "name": "python3"
  },
  "language_info": {
   "codemirror_mode": {
    "name": "ipython",
    "version": 3
   },
   "file_extension": ".py",
   "mimetype": "text/x-python",
   "name": "python",
   "nbconvert_exporter": "python",
   "pygments_lexer": "ipython3",
   "version": "3.10.8"
  }
 },
 "nbformat": 4,
 "nbformat_minor": 5
}
