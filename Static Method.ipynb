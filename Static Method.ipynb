{
 "cells": [
  {
   "cell_type": "code",
   "execution_count": 1,
   "id": "0ab56796-f3b4-4418-afbb-25783ee7d486",
   "metadata": {},
   "outputs": [],
   "source": [
    "class pwskills:\n",
    "    def student_details(self,name,email,number):\n",
    "        print(name,email,number)"
   ]
  },
  {
   "cell_type": "code",
   "execution_count": 2,
   "id": "1ed3bdc9-113f-42f4-bd0b-ac094b0a4d8d",
   "metadata": {},
   "outputs": [],
   "source": [
    "pw= pwskills()"
   ]
  },
  {
   "cell_type": "code",
   "execution_count": 3,
   "id": "ee279212-a97c-43af-b0ec-ddb6d7e57a4c",
   "metadata": {},
   "outputs": [
    {
     "name": "stdout",
     "output_type": "stream",
     "text": [
      "mohit mohit@gmail.com 7061468710\n"
     ]
    }
   ],
   "source": [
    "pw.student_details('mohit','mohit@gmail.com',7061468710)"
   ]
  },
  {
   "cell_type": "code",
   "execution_count": 4,
   "id": "8e573cd0-9a95-497f-b6de-91b216a0726e",
   "metadata": {},
   "outputs": [],
   "source": [
    "class pwskills1:\n",
    "    \n",
    "    def student_details(self,name,email,number):\n",
    "        print(name,email,number)\n",
    "    @staticmethod\n",
    "    def mentor_class(list_mentor):\n",
    "        print(list_mentor)"
   ]
  },
  {
   "cell_type": "code",
   "execution_count": 1,
   "id": "2ddd9e5b-a797-4173-89d5-4319c9fad47d",
   "metadata": {},
   "outputs": [
    {
     "ename": "NameError",
     "evalue": "name 'pwskills1' is not defined",
     "output_type": "error",
     "traceback": [
      "\u001b[0;31m---------------------------------------------------------------------------\u001b[0m",
      "\u001b[0;31mNameError\u001b[0m                                 Traceback (most recent call last)",
      "Cell \u001b[0;32mIn[1], line 1\u001b[0m\n\u001b[0;32m----> 1\u001b[0m \u001b[43mpwskills1\u001b[49m\u001b[38;5;241m.\u001b[39mmentor_class([\u001b[38;5;124m'\u001b[39m\u001b[38;5;124mmohit\u001b[39m\u001b[38;5;124m'\u001b[39m,\u001b[38;5;124m'\u001b[39m\u001b[38;5;124msudh\u001b[39m\u001b[38;5;124m'\u001b[39m])\n",
      "\u001b[0;31mNameError\u001b[0m: name 'pwskills1' is not defined"
     ]
    }
   ],
   "source": []
  },
  {
   "cell_type": "code",
   "execution_count": null,
   "id": "c16854ef-deab-427e-804d-9a35fcae9bd7",
   "metadata": {},
   "outputs": [],
   "source": [
    "class pwskills1:\n",
    "    \n",
    "    def student_details(self,name,email,number):\n",
    "        print(name,email,number)\n",
    "    @staticmethod\n",
    "    def mentor_class(list_mentor):\n",
    "        print(list_mentor)\n",
    "        "
   ]
  }
 ],
 "metadata": {
  "kernelspec": {
   "display_name": "Python 3 (ipykernel)",
   "language": "python",
   "name": "python3"
  },
  "language_info": {
   "codemirror_mode": {
    "name": "ipython",
    "version": 3
   },
   "file_extension": ".py",
   "mimetype": "text/x-python",
   "name": "python",
   "nbconvert_exporter": "python",
   "pygments_lexer": "ipython3",
   "version": "3.10.8"
  }
 },
 "nbformat": 4,
 "nbformat_minor": 5
}
