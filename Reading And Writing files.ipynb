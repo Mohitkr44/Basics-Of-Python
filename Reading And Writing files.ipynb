{
 "cells": [
  {
   "cell_type": "code",
   "execution_count": 1,
   "id": "ba403c42-0f0b-46ad-9409-aad66214cec3",
   "metadata": {},
   "outputs": [],
   "source": [
    "data= {'name':'mohit', 'mail_id':'mohit@gmail.com','phone':9233457896,'subject':['data science','big data','data analytics']}"
   ]
  },
  {
   "cell_type": "code",
   "execution_count": 2,
   "id": "b2da409e-c32b-4e19-a7a6-730d2b114bea",
   "metadata": {},
   "outputs": [],
   "source": [
    "import json"
   ]
  },
  {
   "cell_type": "code",
   "execution_count": 3,
   "id": "46e3390b-6d27-4b64-8f30-296f06dbe232",
   "metadata": {},
   "outputs": [],
   "source": [
    "with open('data.json','w') as f:\n",
    "    json.dump(data,f)"
   ]
  },
  {
   "cell_type": "code",
   "execution_count": 4,
   "id": "cd730aa8-2bcf-4905-a782-044f8a5cf378",
   "metadata": {},
   "outputs": [],
   "source": [
    "with open('data.json','r') as f:\n",
    "    data1= json.load(f)"
   ]
  },
  {
   "cell_type": "code",
   "execution_count": 5,
   "id": "dc85eac7-78e3-4449-854f-1f7898e098b9",
   "metadata": {},
   "outputs": [
    {
     "data": {
      "text/plain": [
       "{'name': 'mohit',\n",
       " 'mail_id': 'mohit@gmail.com',\n",
       " 'phone': 9233457896,\n",
       " 'subject': ['data science', 'big data', 'data analytics']}"
      ]
     },
     "execution_count": 5,
     "metadata": {},
     "output_type": "execute_result"
    }
   ],
   "source": [
    "data1"
   ]
  },
  {
   "cell_type": "code",
   "execution_count": 6,
   "id": "2506e918-cd07-47cd-9994-867e80380081",
   "metadata": {},
   "outputs": [
    {
     "data": {
      "text/plain": [
       "'big data'"
      ]
     },
     "execution_count": 6,
     "metadata": {},
     "output_type": "execute_result"
    }
   ],
   "source": [
    "data1['subject'][1]"
   ]
  },
  {
   "cell_type": "code",
   "execution_count": 7,
   "id": "9bc691ec-ca99-4a5f-af2c-00ba96e5ea9c",
   "metadata": {},
   "outputs": [],
   "source": [
    "import csv"
   ]
  },
  {
   "cell_type": "code",
   "execution_count": 8,
   "id": "6ef10a7d-286f-457d-ba38-fd2b683bfad2",
   "metadata": {},
   "outputs": [],
   "source": [
    "data=[['name','email_id','phone_number'],\n",
    "      ['mohit','mohit@gmail.com',9345678234],\n",
    "    ['sameer','sameer@gmail.com',3475786904] ]"
   ]
  },
  {
   "cell_type": "code",
   "execution_count": 10,
   "id": "5a26e237-2361-4e79-b654-5bb07d967515",
   "metadata": {},
   "outputs": [],
   "source": [
    "with open('data.csv','w') as f:\n",
    "    writer=csv.writer(f)\n",
    "    for i in data:\n",
    "        writer.writerow(i)"
   ]
  },
  {
   "cell_type": "code",
   "execution_count": 11,
   "id": "813277f4-6ffa-4d8b-a2c2-bcffb4608b47",
   "metadata": {},
   "outputs": [
    {
     "name": "stdout",
     "output_type": "stream",
     "text": [
      "['name', 'email_id', 'phone_number']\n",
      "['mohit', 'mohit@gmail.com', '9345678234']\n",
      "['sameer', 'sameer@gmail.com', '3475786904']\n"
     ]
    }
   ],
   "source": [
    "with open('data.csv','r') as f:\n",
    "    read_data=csv.reader(f)\n",
    "    for i in read_data:\n",
    "        print(i)"
   ]
  },
  {
   "cell_type": "code",
   "execution_count": 12,
   "id": "5a635bca-725e-42e1-a14b-14c12a7ac11d",
   "metadata": {},
   "outputs": [],
   "source": [
    "with open('test.bin','wb')as f:\n",
    "    f.write(b'\\x01\\x02\\x03')"
   ]
  },
  {
   "cell_type": "code",
   "execution_count": 13,
   "id": "1b9537a0-3285-4658-ba00-6acd5e4001b0",
   "metadata": {},
   "outputs": [
    {
     "name": "stdout",
     "output_type": "stream",
     "text": [
      "b'\\x01\\x02\\x03'\n"
     ]
    }
   ],
   "source": [
    "with open('test.bin','rb')as f:\n",
    "    print(f.read())"
   ]
  },
  {
   "cell_type": "code",
   "execution_count": null,
   "id": "a37853eb-a859-41c1-b363-d98aad12bc81",
   "metadata": {},
   "outputs": [],
   "source": []
  }
 ],
 "metadata": {
  "kernelspec": {
   "display_name": "Python 3 (ipykernel)",
   "language": "python",
   "name": "python3"
  },
  "language_info": {
   "codemirror_mode": {
    "name": "ipython",
    "version": 3
   },
   "file_extension": ".py",
   "mimetype": "text/x-python",
   "name": "python",
   "nbconvert_exporter": "python",
   "pygments_lexer": "ipython3",
   "version": "3.10.8"
  }
 },
 "nbformat": 4,
 "nbformat_minor": 5
}
