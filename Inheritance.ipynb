{
 "cells": [
  {
   "cell_type": "code",
   "execution_count": 1,
   "id": "616e71ac-aa54-4161-b78e-2e207867df70",
   "metadata": {},
   "outputs": [],
   "source": [
    "class test:\n",
    "    \n",
    "    def test_meth(self):\n",
    "        return 'this is my first class'"
   ]
  },
  {
   "cell_type": "code",
   "execution_count": 2,
   "id": "38452140-5168-47cb-b0d5-14b84b4447b1",
   "metadata": {},
   "outputs": [],
   "source": [
    "class child_test(test):\n",
    "    pass"
   ]
  },
  {
   "cell_type": "code",
   "execution_count": 3,
   "id": "5e0a8191-e8d5-43a0-8395-9b59fba60063",
   "metadata": {},
   "outputs": [],
   "source": [
    "child_test_obj= child_test()"
   ]
  },
  {
   "cell_type": "code",
   "execution_count": 4,
   "id": "f490cbb0-c336-488c-a50d-9af2d6cdeabb",
   "metadata": {},
   "outputs": [
    {
     "data": {
      "text/plain": [
       "'this is my first class'"
      ]
     },
     "execution_count": 4,
     "metadata": {},
     "output_type": "execute_result"
    }
   ],
   "source": [
    "child_test_obj.test_meth()"
   ]
  },
  {
   "cell_type": "code",
   "execution_count": 5,
   "id": "bf023d53-f3e3-42ed-830e-ecf425949a51",
   "metadata": {},
   "outputs": [],
   "source": [
    "class class1:\n",
    "    def test_class1(self):\n",
    "        return 'this is a method from class1'"
   ]
  },
  {
   "cell_type": "code",
   "execution_count": 6,
   "id": "1341cb9a-7773-43c5-abf2-27a4a6cfef80",
   "metadata": {},
   "outputs": [],
   "source": [
    "class class2(class1):\n",
    "    def test_class2(self):\n",
    "        return 'this is a method from class2 '"
   ]
  },
  {
   "cell_type": "code",
   "execution_count": 7,
   "id": "30b86eb8-2711-46b3-b059-e5eacd7a0885",
   "metadata": {},
   "outputs": [],
   "source": [
    "class class3(class2):\n",
    "    pass\n"
   ]
  },
  {
   "cell_type": "code",
   "execution_count": 9,
   "id": "4a2b4fda-45ad-4214-9111-d8b85b3625cb",
   "metadata": {},
   "outputs": [],
   "source": [
    "obj_class3= class3()"
   ]
  },
  {
   "cell_type": "code",
   "execution_count": 10,
   "id": "9f44505c-02b3-4748-8481-2d2e1f06aa58",
   "metadata": {},
   "outputs": [
    {
     "data": {
      "text/plain": [
       "'this is a method from class2 '"
      ]
     },
     "execution_count": 10,
     "metadata": {},
     "output_type": "execute_result"
    }
   ],
   "source": [
    "obj_class3.test_class2()"
   ]
  },
  {
   "cell_type": "code",
   "execution_count": 11,
   "id": "e704b2c6-84d7-4629-861f-4499a11525f1",
   "metadata": {},
   "outputs": [
    {
     "data": {
      "text/plain": [
       "'this is a method from class1'"
      ]
     },
     "execution_count": 11,
     "metadata": {},
     "output_type": "execute_result"
    }
   ],
   "source": [
    "obj_class3.test_class1()\n"
   ]
  },
  {
   "cell_type": "code",
   "execution_count": 12,
   "id": "265e152e-9a97-4b16-8dfc-d74d8102e7ff",
   "metadata": {},
   "outputs": [],
   "source": [
    "class class1:\n",
    "    def test_class1(self):\n",
    "        return 'this is class1'"
   ]
  },
  {
   "cell_type": "code",
   "execution_count": 13,
   "id": "6b2b4a47-ee42-403e-85fd-db4f798c1d76",
   "metadata": {},
   "outputs": [],
   "source": [
    "class class2:\n",
    "    def test_class2(self):\n",
    "        return 'this is class2' "
   ]
  },
  {
   "cell_type": "code",
   "execution_count": 14,
   "id": "d7796439-6c63-4d48-a9ab-65c62b28c744",
   "metadata": {},
   "outputs": [],
   "source": [
    "class class3(class1,class2):\n",
    "    pass"
   ]
  },
  {
   "cell_type": "code",
   "execution_count": 15,
   "id": "e9b2a218-2e19-47ff-95e5-5fae522637fe",
   "metadata": {},
   "outputs": [],
   "source": [
    "obj_class3= class3()"
   ]
  },
  {
   "cell_type": "code",
   "execution_count": 16,
   "id": "8b0a22b3-7bd9-44ca-8724-6be821576b44",
   "metadata": {},
   "outputs": [
    {
     "data": {
      "text/plain": [
       "'this is class1'"
      ]
     },
     "execution_count": 16,
     "metadata": {},
     "output_type": "execute_result"
    }
   ],
   "source": [
    "obj_class3.test_class1()"
   ]
  },
  {
   "cell_type": "code",
   "execution_count": 17,
   "id": "d57cc1ba-9d6a-4cd4-9552-64b5d29bdd0c",
   "metadata": {},
   "outputs": [
    {
     "data": {
      "text/plain": [
       "'this is class2'"
      ]
     },
     "execution_count": 17,
     "metadata": {},
     "output_type": "execute_result"
    }
   ],
   "source": [
    "obj_class3.test_class2()"
   ]
  },
  {
   "cell_type": "code",
   "execution_count": null,
   "id": "2cc7c080-cf14-4cb6-87b5-bef9994d0dd0",
   "metadata": {},
   "outputs": [],
   "source": []
  }
 ],
 "metadata": {
  "kernelspec": {
   "display_name": "Python 3 (ipykernel)",
   "language": "python",
   "name": "python3"
  },
  "language_info": {
   "codemirror_mode": {
    "name": "ipython",
    "version": 3
   },
   "file_extension": ".py",
   "mimetype": "text/x-python",
   "name": "python",
   "nbconvert_exporter": "python",
   "pygments_lexer": "ipython3",
   "version": "3.10.8"
  }
 },
 "nbformat": 4,
 "nbformat_minor": 5
}
