{
 "cells": [
  {
   "cell_type": "code",
   "execution_count": 1,
   "id": "59b93c95-bcb8-412c-b098-c8b57ac660ad",
   "metadata": {},
   "outputs": [],
   "source": [
    "class test:\n",
    "    def __init__(self,a,b):\n",
    "        self.a = a\n",
    "        self.b = b"
   ]
  },
  {
   "cell_type": "code",
   "execution_count": 2,
   "id": "2ef0ccc9-eb9f-4efa-bcba-e3ccc5747e50",
   "metadata": {},
   "outputs": [],
   "source": [
    "t=test(23,34)"
   ]
  },
  {
   "cell_type": "code",
   "execution_count": 3,
   "id": "6adb54c2-64de-4bb5-867e-3490c7668ab1",
   "metadata": {},
   "outputs": [],
   "source": [
    "t.a = 23456"
   ]
  },
  {
   "cell_type": "code",
   "execution_count": 4,
   "id": "21d164a7-d61f-4e8b-99ea-439eacc631b2",
   "metadata": {},
   "outputs": [
    {
     "data": {
      "text/plain": [
       "23456"
      ]
     },
     "execution_count": 4,
     "metadata": {},
     "output_type": "execute_result"
    }
   ],
   "source": [
    "t.a"
   ]
  },
  {
   "cell_type": "code",
   "execution_count": 5,
   "id": "4b7a538f-c1b6-421c-8473-48b6c81ab1d1",
   "metadata": {},
   "outputs": [],
   "source": [
    "class car:\n",
    "    def __init__(self,year,make,model,speed):\n",
    "        self.__year= year\n",
    "        self.__make= make\n",
    "        self.__model= model\n",
    "        self.__speed= 0\n",
    "        "
   ]
  },
  {
   "cell_type": "code",
   "execution_count": 6,
   "id": "6099fae0-8c56-4a19-aefd-f082d22010d9",
   "metadata": {},
   "outputs": [],
   "source": [
    "c= car(2021,'toyota','innova',112)"
   ]
  },
  {
   "cell_type": "code",
   "execution_count": 7,
   "id": "ef8599e0-80b8-4d2a-bbfa-cd6901a5aa0b",
   "metadata": {},
   "outputs": [
    {
     "ename": "AttributeError",
     "evalue": "'car' object has no attribute '__year'",
     "output_type": "error",
     "traceback": [
      "\u001b[0;31m---------------------------------------------------------------------------\u001b[0m",
      "\u001b[0;31mAttributeError\u001b[0m                            Traceback (most recent call last)",
      "Cell \u001b[0;32mIn[7], line 1\u001b[0m\n\u001b[0;32m----> 1\u001b[0m \u001b[43mc\u001b[49m\u001b[38;5;241;43m.\u001b[39;49m\u001b[43m__year\u001b[49m\n",
      "\u001b[0;31mAttributeError\u001b[0m: 'car' object has no attribute '__year'"
     ]
    }
   ],
   "source": [
    "c.__year"
   ]
  },
  {
   "cell_type": "code",
   "execution_count": 8,
   "id": "405ff56e-dda2-40ee-b71f-e8e070682612",
   "metadata": {},
   "outputs": [
    {
     "data": {
      "text/plain": [
       "2021"
      ]
     },
     "execution_count": 8,
     "metadata": {},
     "output_type": "execute_result"
    }
   ],
   "source": [
    "c._car__year"
   ]
  },
  {
   "cell_type": "code",
   "execution_count": 9,
   "id": "43bca433-db7e-4d11-83b3-a8155f7971f5",
   "metadata": {},
   "outputs": [
    {
     "data": {
      "text/plain": [
       "0"
      ]
     },
     "execution_count": 9,
     "metadata": {},
     "output_type": "execute_result"
    }
   ],
   "source": [
    "c._car__speed"
   ]
  },
  {
   "cell_type": "code",
   "execution_count": 10,
   "id": "b366c754-c285-4593-854a-fb1dfcdc60f2",
   "metadata": {},
   "outputs": [],
   "source": [
    "class car:\n",
    "    def __init__(self,year,make,model,speed):\n",
    "        self.__year= year\n",
    "        self.__make= make\n",
    "        self.__model= model\n",
    "        self.__speed= 0\n",
    "        \n",
    "    def set_speed(self,speed) :\n",
    "        self.__speed=0 if speed<0 else speed\n",
    "    def get_speed(self):\n",
    "        return self.__speed"
   ]
  },
  {
   "cell_type": "code",
   "execution_count": 11,
   "id": "5a93184b-782b-41e9-b1c7-05554f785851",
   "metadata": {},
   "outputs": [],
   "source": [
    "c= car(2021,'toyota','innova',112)"
   ]
  },
  {
   "cell_type": "code",
   "execution_count": 12,
   "id": "97a7a2d7-54f1-4b9d-a9e8-1e07e1b69856",
   "metadata": {},
   "outputs": [],
   "source": [
    "c.set_speed(1233)"
   ]
  },
  {
   "cell_type": "code",
   "execution_count": 13,
   "id": "b45dea76-0d3a-491a-97b3-da0eea64d39c",
   "metadata": {},
   "outputs": [
    {
     "data": {
      "text/plain": [
       "1233"
      ]
     },
     "execution_count": 13,
     "metadata": {},
     "output_type": "execute_result"
    }
   ],
   "source": [
    "c.get_speed()"
   ]
  },
  {
   "cell_type": "code",
   "execution_count": 15,
   "id": "ce9f7911-f4aa-4e4a-bf04-dab052da55e6",
   "metadata": {},
   "outputs": [],
   "source": [
    "class bank_account:\n",
    "    def __init__(self,balance):\n",
    "        self.__balance= balance\n",
    "    def deposit(self,amount):\n",
    "        self.__balance= self.__balance+amount\n",
    "    def withdraw(self,amount):\n",
    "        if self.__balance>= amount:\n",
    "            self.__balance= self.__balance-amount\n",
    "            return True\n",
    "        else:\n",
    "            return False\n",
    "    def get_balance(self):\n",
    "        return self.__balance"
   ]
  },
  {
   "cell_type": "code",
   "execution_count": 16,
   "id": "08b55d3d-fb30-4ac2-95d8-b8456858c32b",
   "metadata": {},
   "outputs": [
    {
     "ename": "TypeError",
     "evalue": "bank_account.__init__() missing 1 required positional argument: 'balance'",
     "output_type": "error",
     "traceback": [
      "\u001b[0;31m---------------------------------------------------------------------------\u001b[0m",
      "\u001b[0;31mTypeError\u001b[0m                                 Traceback (most recent call last)",
      "Cell \u001b[0;32mIn[16], line 1\u001b[0m\n\u001b[0;32m----> 1\u001b[0m mohit \u001b[38;5;241m=\u001b[39m \u001b[43mbank_account\u001b[49m\u001b[43m(\u001b[49m\u001b[43m)\u001b[49m\n",
      "\u001b[0;31mTypeError\u001b[0m: bank_account.__init__() missing 1 required positional argument: 'balance'"
     ]
    }
   ],
   "source": [
    "mohit = bank_account()"
   ]
  },
  {
   "cell_type": "code",
   "execution_count": 17,
   "id": "0e0673d2-6c41-4060-9f7b-7eeb0e457af3",
   "metadata": {},
   "outputs": [],
   "source": [
    "mohit = bank_account(1000)"
   ]
  },
  {
   "cell_type": "code",
   "execution_count": 18,
   "id": "eb9b5710-800d-45f3-99d1-5c1d091bc81e",
   "metadata": {},
   "outputs": [
    {
     "data": {
      "text/plain": [
       "1000"
      ]
     },
     "execution_count": 18,
     "metadata": {},
     "output_type": "execute_result"
    }
   ],
   "source": [
    "mohit.get_balance()"
   ]
  },
  {
   "cell_type": "code",
   "execution_count": 19,
   "id": "e4c6c8a7-81d8-4e9f-9f3f-4b7c13e2f91e",
   "metadata": {},
   "outputs": [],
   "source": [
    "mohit.deposit(5000)"
   ]
  },
  {
   "cell_type": "code",
   "execution_count": 20,
   "id": "ec1c4200-b63b-4330-b277-a3d01e3cb5c5",
   "metadata": {},
   "outputs": [
    {
     "data": {
      "text/plain": [
       "6000"
      ]
     },
     "execution_count": 20,
     "metadata": {},
     "output_type": "execute_result"
    }
   ],
   "source": [
    "mohit.get_balance()"
   ]
  },
  {
   "cell_type": "code",
   "execution_count": 21,
   "id": "07528526-2836-42f1-9b8a-30737109489e",
   "metadata": {},
   "outputs": [],
   "source": [
    "mohit.deposit(3500)"
   ]
  },
  {
   "cell_type": "code",
   "execution_count": 22,
   "id": "634a35e1-51cb-4228-a515-230ea8298bb2",
   "metadata": {},
   "outputs": [
    {
     "data": {
      "text/plain": [
       "9500"
      ]
     },
     "execution_count": 22,
     "metadata": {},
     "output_type": "execute_result"
    }
   ],
   "source": [
    "mohit.get_balance()"
   ]
  },
  {
   "cell_type": "code",
   "execution_count": 23,
   "id": "5286b8bc-f54a-46e9-9731-462ea21450e5",
   "metadata": {},
   "outputs": [
    {
     "data": {
      "text/plain": [
       "False"
      ]
     },
     "execution_count": 23,
     "metadata": {},
     "output_type": "execute_result"
    }
   ],
   "source": [
    "mohit.withdraw(10500)"
   ]
  },
  {
   "cell_type": "code",
   "execution_count": 24,
   "id": "640c8fed-08f4-49af-8e4c-9a44cc6fb8cc",
   "metadata": {},
   "outputs": [
    {
     "data": {
      "text/plain": [
       "True"
      ]
     },
     "execution_count": 24,
     "metadata": {},
     "output_type": "execute_result"
    }
   ],
   "source": [
    "mohit.withdraw(1500)"
   ]
  },
  {
   "cell_type": "code",
   "execution_count": 25,
   "id": "caf86c44-6d06-46cb-b59c-cf2b7599a742",
   "metadata": {},
   "outputs": [
    {
     "data": {
      "text/plain": [
       "8000"
      ]
     },
     "execution_count": 25,
     "metadata": {},
     "output_type": "execute_result"
    }
   ],
   "source": [
    "mohit.get_balance()"
   ]
  },
  {
   "cell_type": "code",
   "execution_count": null,
   "id": "33370e35-c633-4319-9667-056c978c64c4",
   "metadata": {},
   "outputs": [],
   "source": []
  }
 ],
 "metadata": {
  "kernelspec": {
   "display_name": "Python 3 (ipykernel)",
   "language": "python",
   "name": "python3"
  },
  "language_info": {
   "codemirror_mode": {
    "name": "ipython",
    "version": 3
   },
   "file_extension": ".py",
   "mimetype": "text/x-python",
   "name": "python",
   "nbconvert_exporter": "python",
   "pygments_lexer": "ipython3",
   "version": "3.10.8"
  }
 },
 "nbformat": 4,
 "nbformat_minor": 5
}
