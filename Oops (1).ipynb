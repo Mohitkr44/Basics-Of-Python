{
 "cells": [
  {
   "cell_type": "code",
   "execution_count": 2,
   "id": "d2d14899-e102-4de7-9201-17e99d344917",
   "metadata": {},
   "outputs": [],
   "source": [
    "a = 1"
   ]
  },
  {
   "cell_type": "code",
   "execution_count": 4,
   "id": "478c8a64-137f-45ce-9534-3257036ed6ff",
   "metadata": {},
   "outputs": [
    {
     "name": "stdout",
     "output_type": "stream",
     "text": [
      "<class 'int'>\n"
     ]
    }
   ],
   "source": [
    "print(type(a))\n"
   ]
  },
  {
   "cell_type": "raw",
   "id": "dffa9b5b-0bc2-4c6f-ad02-b576bfefb610",
   "metadata": {},
   "source": []
  },
  {
   "cell_type": "code",
   "execution_count": 5,
   "id": "c9c190c1-d641-48ae-b575-22364f3f7701",
   "metadata": {},
   "outputs": [
    {
     "name": "stdout",
     "output_type": "stream",
     "text": [
      "<class 'str'>\n"
     ]
    }
   ],
   "source": [
    "print (type('pwskills'))"
   ]
  },
  {
   "cell_type": "code",
   "execution_count": 6,
   "id": "c70f7d00-a723-43a4-b471-53ac0c0db5e6",
   "metadata": {},
   "outputs": [
    {
     "ename": "SyntaxError",
     "evalue": "incomplete input (1236307212.py, line 2)",
     "output_type": "error",
     "traceback": [
      "\u001b[0;36m  Cell \u001b[0;32mIn[6], line 2\u001b[0;36m\u001b[0m\n\u001b[0;31m    \u001b[0m\n\u001b[0m    ^\u001b[0m\n\u001b[0;31mSyntaxError\u001b[0m\u001b[0;31m:\u001b[0m incomplete input\n"
     ]
    }
   ],
   "source": [
    "class test:\n",
    "    "
   ]
  },
  {
   "cell_type": "code",
   "execution_count": 7,
   "id": "02eabd7b-09d0-4c5d-b722-529cb7e7bb21",
   "metadata": {},
   "outputs": [],
   "source": [
    "class test:\n",
    "    pass"
   ]
  },
  {
   "cell_type": "code",
   "execution_count": 8,
   "id": "2a31ff22-a426-4da3-b63d-865c4dfb28a2",
   "metadata": {},
   "outputs": [],
   "source": [
    "a= test()"
   ]
  },
  {
   "cell_type": "code",
   "execution_count": 9,
   "id": "5cc9aebe-02ea-4986-8718-67271ac3c216",
   "metadata": {},
   "outputs": [
    {
     "data": {
      "text/plain": [
       "__main__.test"
      ]
     },
     "execution_count": 9,
     "metadata": {},
     "output_type": "execute_result"
    }
   ],
   "source": [
    "type(a)"
   ]
  },
  {
   "cell_type": "code",
   "execution_count": 10,
   "id": "4c7fe216-61f6-467e-b24f-f4fe5a75b196",
   "metadata": {},
   "outputs": [
    {
     "name": "stdout",
     "output_type": "stream",
     "text": [
      "<class '__main__.test'>\n"
     ]
    }
   ],
   "source": [
    "print(type(a))"
   ]
  },
  {
   "cell_type": "code",
   "execution_count": 12,
   "id": "a55dc4b0-e3c7-48ab-9ca3-b651a14c0062",
   "metadata": {},
   "outputs": [],
   "source": [
    "class pwskills:\n",
    "    def welcome_msg():\n",
    "        print ('welcome to pwskills')"
   ]
  },
  {
   "cell_type": "code",
   "execution_count": 15,
   "id": "c47bb130-d3a3-49d1-ab31-4b1832c94c72",
   "metadata": {},
   "outputs": [],
   "source": [
    "rohan = pwskills()\n"
   ]
  },
  {
   "cell_type": "code",
   "execution_count": 16,
   "id": "fd32ca93-19bd-42ae-b91f-8935afb3baa5",
   "metadata": {},
   "outputs": [
    {
     "data": {
      "text/plain": [
       "__main__.pwskills"
      ]
     },
     "execution_count": 16,
     "metadata": {},
     "output_type": "execute_result"
    }
   ],
   "source": [
    "type (rohan)"
   ]
  },
  {
   "cell_type": "raw",
   "id": "278eae08-e050-4c9f-9ee0-68369254ccb5",
   "metadata": {},
   "source": [
    "print(type(rohan))"
   ]
  },
  {
   "cell_type": "code",
   "execution_count": 17,
   "id": "3e7763b5-bf2b-4b0c-b35c-35c79ed7e968",
   "metadata": {},
   "outputs": [
    {
     "name": "stdout",
     "output_type": "stream",
     "text": [
      "<class '__main__.pwskills'>\n"
     ]
    }
   ],
   "source": [
    "print(type(rohan))"
   ]
  },
  {
   "cell_type": "code",
   "execution_count": 19,
   "id": "82345b02-c5b7-4e2a-a51f-e05531e3d934",
   "metadata": {},
   "outputs": [
    {
     "ename": "TypeError",
     "evalue": "pwskills.welcome_msg() takes 0 positional arguments but 1 was given",
     "output_type": "error",
     "traceback": [
      "\u001b[0;31m---------------------------------------------------------------------------\u001b[0m",
      "\u001b[0;31mTypeError\u001b[0m                                 Traceback (most recent call last)",
      "Cell \u001b[0;32mIn[19], line 1\u001b[0m\n\u001b[0;32m----> 1\u001b[0m \u001b[43mrohan\u001b[49m\u001b[38;5;241;43m.\u001b[39;49m\u001b[43mwelcome_msg\u001b[49m\u001b[43m(\u001b[49m\u001b[43m)\u001b[49m\n",
      "\u001b[0;31mTypeError\u001b[0m: pwskills.welcome_msg() takes 0 positional arguments but 1 was given"
     ]
    }
   ],
   "source": [
    "rohan.welcome_msg()"
   ]
  },
  {
   "cell_type": "code",
   "execution_count": 20,
   "id": "90757c42-a842-4e7c-b85e-bcf149c28706",
   "metadata": {},
   "outputs": [],
   "source": [
    "class pwskills:\n",
    "    def welcome_msg(self):\n",
    "        print ('welcome to pwskills')"
   ]
  },
  {
   "cell_type": "code",
   "execution_count": 23,
   "id": "a5f8dfa4-4984-4931-9607-665ee0ca33d1",
   "metadata": {},
   "outputs": [],
   "source": [
    "rohan = pwskills()"
   ]
  },
  {
   "cell_type": "code",
   "execution_count": 24,
   "id": "af8b55e7-b150-423f-a05f-d9ad2609f1ea",
   "metadata": {},
   "outputs": [
    {
     "name": "stdout",
     "output_type": "stream",
     "text": [
      "welcome to pwskills\n"
     ]
    }
   ],
   "source": [
    "\n",
    "rohan.welcome_msg()"
   ]
  },
  {
   "cell_type": "code",
   "execution_count": 25,
   "id": "f0546c6d-87b7-4ec9-80d0-e5769769cb4b",
   "metadata": {},
   "outputs": [],
   "source": [
    "gaurav= pwskills()"
   ]
  },
  {
   "cell_type": "code",
   "execution_count": 26,
   "id": "00f7edc7-744e-49c4-817a-f0efc63ba8fc",
   "metadata": {},
   "outputs": [
    {
     "name": "stdout",
     "output_type": "stream",
     "text": [
      "welcome to pwskills\n"
     ]
    }
   ],
   "source": [
    "gaurav.welcome_msg()"
   ]
  },
  {
   "cell_type": "code",
   "execution_count": 29,
   "id": "c42554cf-9298-411e-9d20-b30a0eb8048f",
   "metadata": {},
   "outputs": [],
   "source": [
    "class pwskills1:\n",
    "    def __init__(self,phone_number,email_id,student_id):\n",
    "        self.phone_number= phone_number\n",
    "        self.email_id= email_id\n",
    "        self.student_id= student_id\n",
    "    def return_student_details(self):\n",
    "        return self.student_id,self.phone_number,self.email_id"
   ]
  },
  {
   "cell_type": "code",
   "execution_count": 31,
   "id": "ae778cce-5323-4df1-a932-3c8dea4ea83b",
   "metadata": {},
   "outputs": [
    {
     "ename": "TypeError",
     "evalue": "pwskills1.__init__() missing 3 required positional arguments: 'phone_number', 'email_id', and 'student_id'",
     "output_type": "error",
     "traceback": [
      "\u001b[0;31m---------------------------------------------------------------------------\u001b[0m",
      "\u001b[0;31mTypeError\u001b[0m                                 Traceback (most recent call last)",
      "Cell \u001b[0;32mIn[31], line 1\u001b[0m\n\u001b[0;32m----> 1\u001b[0m rohan \u001b[38;5;241m=\u001b[39m \u001b[43mpwskills1\u001b[49m\u001b[43m(\u001b[49m\u001b[43m)\u001b[49m\n",
      "\u001b[0;31mTypeError\u001b[0m: pwskills1.__init__() missing 3 required positional arguments: 'phone_number', 'email_id', and 'student_id'"
     ]
    }
   ],
   "source": [
    "rohan = pwskills1()"
   ]
  },
  {
   "cell_type": "code",
   "execution_count": 32,
   "id": "66df5b48-b474-4f07-8146-ac0534d0ec47",
   "metadata": {},
   "outputs": [],
   "source": [
    "rohan = pwskills1(9876645641, 'rohan@gmail.com',203)"
   ]
  },
  {
   "cell_type": "code",
   "execution_count": 33,
   "id": "f226955a-5239-4e00-a31a-4bf77e3fb83f",
   "metadata": {},
   "outputs": [
    {
     "data": {
      "text/plain": [
       "(203, 9876645641, 'rohan@gmail.com')"
      ]
     },
     "execution_count": 33,
     "metadata": {},
     "output_type": "execute_result"
    }
   ],
   "source": [
    "rohan.return_student_details()"
   ]
  },
  {
   "cell_type": "code",
   "execution_count": null,
   "id": "1de9dc18-5324-492a-a775-25db9e6b5e5b",
   "metadata": {},
   "outputs": [],
   "source": []
  },
  {
   "cell_type": "code",
   "execution_count": 36,
   "id": "e30e0bfa-8956-47ae-bcf1-992d8b75a83e",
   "metadata": {},
   "outputs": [],
   "source": [
    "gaurav= pwskills1(9283748292,'gaurav@gmail.com',108)"
   ]
  },
  {
   "cell_type": "code",
   "execution_count": 37,
   "id": "d1a3850f-f3ee-4d2a-bc45-7a290386af7b",
   "metadata": {},
   "outputs": [
    {
     "data": {
      "text/plain": [
       "(108, 9283748292, 'gaurav@gmail.com')"
      ]
     },
     "execution_count": 37,
     "metadata": {},
     "output_type": "execute_result"
    }
   ],
   "source": [
    "gaurav.return_student_details()"
   ]
  },
  {
   "cell_type": "code",
   "execution_count": 38,
   "id": "26e88c12-d5fd-44a2-ba02-4c8ad04a4a3e",
   "metadata": {},
   "outputs": [
    {
     "data": {
      "text/plain": [
       "9283748292"
      ]
     },
     "execution_count": 38,
     "metadata": {},
     "output_type": "execute_result"
    }
   ],
   "source": [
    "gaurav.phone_number"
   ]
  },
  {
   "cell_type": "code",
   "execution_count": null,
   "id": "af55a923-7ac0-4fe1-86e2-6cce5e4a7905",
   "metadata": {},
   "outputs": [],
   "source": []
  }
 ],
 "metadata": {
  "kernelspec": {
   "display_name": "Python 3 (ipykernel)",
   "language": "python",
   "name": "python3"
  },
  "language_info": {
   "codemirror_mode": {
    "name": "ipython",
    "version": 3
   },
   "file_extension": ".py",
   "mimetype": "text/x-python",
   "name": "python",
   "nbconvert_exporter": "python",
   "pygments_lexer": "ipython3",
   "version": "3.10.8"
  }
 },
 "nbformat": 4,
 "nbformat_minor": 5
}
