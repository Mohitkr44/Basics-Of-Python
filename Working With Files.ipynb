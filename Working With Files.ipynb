{
 "cells": [
  {
   "cell_type": "code",
   "execution_count": 9,
   "id": "411a7e8c-48b8-4e92-a44b-82ee07cd54cf",
   "metadata": {},
   "outputs": [],
   "source": [
    "f= open('test.txt', 'w')"
   ]
  },
  {
   "cell_type": "code",
   "execution_count": 7,
   "id": "e1ef2484-f069-4e50-a9f9-e70585f46275",
   "metadata": {},
   "outputs": [
    {
     "data": {
      "text/plain": [
       "'/home/jovyan/work'"
      ]
     },
     "execution_count": 7,
     "metadata": {},
     "output_type": "execute_result"
    }
   ],
   "source": [
    "pwd"
   ]
  },
  {
   "cell_type": "code",
   "execution_count": 8,
   "id": "e2654594-d31b-4e00-9e8c-17fd6affd746",
   "metadata": {},
   "outputs": [
    {
     "name": "stdout",
     "output_type": "stream",
     "text": [
      " Abstraction.ipynb          'map, reduce filter function.ipynb'\n",
      "'Class Method.ipynb'        'Map, Reduce, Filter Function.ipynb'\n",
      " comprehension.ipynb         oops.ipynb\n",
      " Comprehension.ipynb         Oops.ipynb\n",
      " Decorators.ipynb            Polymorphism.ipynb\n",
      "'dicti, loop.ipynb'         'Property Decorators.ipynb'\n",
      "'Dicti, Loop.ipynb'         'python basics.ipynb'\n",
      "'Dunder Method.ipynb'       'Python basics.ipynb'\n",
      " Encapsulation.ipynb        'Static Method.ipynb'\n",
      " functions.ipynb             test.txt\n",
      " Functions.ipynb             text.txt\n",
      "'generator function.ipynb'  'while looop.ipynb'\n",
      "'Generator function.ipynb'  'While Looop.ipynb'\n",
      " Inheritance.ipynb          'while loop.ipynb'\n",
      "'lambda function.ipynb'     'While Loop.ipynb'\n",
      "'Lambda Function.ipynb'     'Working With Files.ipynb'\n"
     ]
    }
   ],
   "source": [
    "ls\n"
   ]
  },
  {
   "cell_type": "code",
   "execution_count": 10,
   "id": "84c69da5-2dd7-4043-90e7-a54ac3d2153c",
   "metadata": {},
   "outputs": [
    {
     "data": {
      "text/plain": [
       "21"
      ]
     },
     "execution_count": 10,
     "metadata": {},
     "output_type": "execute_result"
    }
   ],
   "source": [
    "f.write('this is my first file')"
   ]
  },
  {
   "cell_type": "code",
   "execution_count": 11,
   "id": "9d3956cd-97e6-4fbb-adce-0213e05e8866",
   "metadata": {},
   "outputs": [],
   "source": [
    "f.close()\n"
   ]
  },
  {
   "cell_type": "code",
   "execution_count": 12,
   "id": "6742bb7b-43ae-41a6-a9cd-74dd1ab0813c",
   "metadata": {},
   "outputs": [],
   "source": [
    "f= open('test.txt', 'a')"
   ]
  },
  {
   "cell_type": "code",
   "execution_count": 14,
   "id": "ef4977a3-5f4e-4c1a-9cb7-d84d6d104395",
   "metadata": {},
   "outputs": [
    {
     "data": {
      "text/plain": [
       "51"
      ]
     },
     "execution_count": 14,
     "metadata": {},
     "output_type": "execute_result"
    }
   ],
   "source": [
    "f.write('my name is mohit, iam studying data science masters')"
   ]
  },
  {
   "cell_type": "code",
   "execution_count": 15,
   "id": "2cf4b5a9-a87b-4bbe-8fb5-75f81b3f6994",
   "metadata": {},
   "outputs": [],
   "source": [
    "f.close()"
   ]
  },
  {
   "cell_type": "code",
   "execution_count": 16,
   "id": "cc003a50-84e0-4f67-aaa8-86624ff96f49",
   "metadata": {},
   "outputs": [],
   "source": [
    "f= open('test.txt', 'r')"
   ]
  },
  {
   "cell_type": "code",
   "execution_count": 17,
   "id": "353bee1e-ace1-41f1-847c-329f9bc8f901",
   "metadata": {},
   "outputs": [
    {
     "data": {
      "text/plain": [
       "'this is my first filemy name is mohit, iam studying data science masters'"
      ]
     },
     "execution_count": 17,
     "metadata": {},
     "output_type": "execute_result"
    }
   ],
   "source": [
    "f.read()"
   ]
  },
  {
   "cell_type": "code",
   "execution_count": 18,
   "id": "9b963f6e-0cdc-4be8-9861-a71499765116",
   "metadata": {},
   "outputs": [
    {
     "data": {
      "text/plain": [
       "''"
      ]
     },
     "execution_count": 18,
     "metadata": {},
     "output_type": "execute_result"
    }
   ],
   "source": [
    "f.readline()"
   ]
  },
  {
   "cell_type": "code",
   "execution_count": 20,
   "id": "7f36accd-87f5-4b62-a341-e761806872fd",
   "metadata": {},
   "outputs": [
    {
     "data": {
      "text/plain": [
       "1"
      ]
     },
     "execution_count": 20,
     "metadata": {},
     "output_type": "execute_result"
    }
   ],
   "source": [
    "f.seek(1)"
   ]
  },
  {
   "cell_type": "code",
   "execution_count": 21,
   "id": "5e2818b6-2326-4fae-9a27-6a94a01df0f1",
   "metadata": {},
   "outputs": [
    {
     "data": {
      "text/plain": [
       "'his is my first filemy name is mohit, iam studying data science masters'"
      ]
     },
     "execution_count": 21,
     "metadata": {},
     "output_type": "execute_result"
    }
   ],
   "source": [
    "f.readline()"
   ]
  },
  {
   "cell_type": "code",
   "execution_count": 23,
   "id": "509f602c-c048-4195-8614-f5dbd5c1dc85",
   "metadata": {},
   "outputs": [],
   "source": [
    "for i in f:\n",
    "    print(i)"
   ]
  },
  {
   "cell_type": "code",
   "execution_count": 24,
   "id": "f055cf3c-f917-4c88-870b-3ab6b37f89de",
   "metadata": {},
   "outputs": [],
   "source": [
    "f= open('test.txt', 'r')"
   ]
  },
  {
   "cell_type": "code",
   "execution_count": 25,
   "id": "2b366d0b-9913-40c1-85f0-45550d760b72",
   "metadata": {},
   "outputs": [
    {
     "name": "stdout",
     "output_type": "stream",
     "text": [
      "this is my first filemy name is mohit, iam studying data science masters\n"
     ]
    }
   ],
   "source": [
    "for i in f:\n",
    "    print(i)"
   ]
  },
  {
   "cell_type": "code",
   "execution_count": 26,
   "id": "d3ecd03b-716c-47cc-8836-becddcb52285",
   "metadata": {},
   "outputs": [],
   "source": [
    "import os"
   ]
  },
  {
   "cell_type": "code",
   "execution_count": 27,
   "id": "09c8b4ba-75b7-4af7-98cc-40bda1743296",
   "metadata": {},
   "outputs": [
    {
     "data": {
      "text/plain": [
       "72"
      ]
     },
     "execution_count": 27,
     "metadata": {},
     "output_type": "execute_result"
    }
   ],
   "source": [
    "os.path.getsize('test.txt')"
   ]
  },
  {
   "cell_type": "code",
   "execution_count": null,
   "id": "0aa2404f-b69f-4566-b902-faca5a2c904b",
   "metadata": {},
   "outputs": [],
   "source": []
  }
 ],
 "metadata": {
  "kernelspec": {
   "display_name": "Python 3 (ipykernel)",
   "language": "python",
   "name": "python3"
  },
  "language_info": {
   "codemirror_mode": {
    "name": "ipython",
    "version": 3
   },
   "file_extension": ".py",
   "mimetype": "text/x-python",
   "name": "python",
   "nbconvert_exporter": "python",
   "pygments_lexer": "ipython3",
   "version": "3.10.8"
  }
 },
 "nbformat": 4,
 "nbformat_minor": 5
}
