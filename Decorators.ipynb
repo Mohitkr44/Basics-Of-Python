{
 "cells": [
  {
   "cell_type": "code",
   "execution_count": 1,
   "id": "e6096b23-8f39-43e5-b9ac-b11ba9dc6d8c",
   "metadata": {},
   "outputs": [],
   "source": [
    "def test():\n",
    "    print('this is my function to test')"
   ]
  },
  {
   "cell_type": "code",
   "execution_count": 2,
   "id": "4a714142-f9a3-4a99-ba93-5c12a9558f6d",
   "metadata": {},
   "outputs": [
    {
     "name": "stdout",
     "output_type": "stream",
     "text": [
      "this is my function to test\n"
     ]
    }
   ],
   "source": [
    "test()"
   ]
  },
  {
   "cell_type": "code",
   "execution_count": 3,
   "id": "4263a0ab-0dfb-453e-959a-f20c6fb23819",
   "metadata": {},
   "outputs": [],
   "source": [
    "def test():\n",
    "    print('this is my start of the function')\n",
    "    print('this is my function to test')\n",
    "    print(6+10)\n",
    "    print('this is my start of the function')"
   ]
  },
  {
   "cell_type": "code",
   "execution_count": 4,
   "id": "c182950b-49a7-4812-973a-0cf6aaa3c4d6",
   "metadata": {},
   "outputs": [
    {
     "name": "stdout",
     "output_type": "stream",
     "text": [
      "this is my start of the function\n",
      "this is my function to test\n",
      "16\n",
      "this is the end of my function \n"
     ]
    }
   ],
   "source": [
    "test()"
   ]
  },
  {
   "cell_type": "code",
   "execution_count": 5,
   "id": "2100df6a-60c8-472b-b0f0-d66c5e7b8345",
   "metadata": {},
   "outputs": [],
   "source": [
    "def deco(func):\n",
    "    def inner_dec():\n",
    "        print('this is my start of the function')\n",
    "        func()\n",
    "        \n",
    "        print('this is my start of the function')\n",
    "    return inner_dec    "
   ]
  },
  {
   "cell_type": "code",
   "execution_count": 6,
   "id": "97703740-c7b8-42c0-a937-b8464fbf4def",
   "metadata": {},
   "outputs": [],
   "source": [
    "def test1():\n",
    "    print(6+7)"
   ]
  },
  {
   "cell_type": "code",
   "execution_count": 7,
   "id": "018f3175-749b-4c60-85c9-271c4e0c9661",
   "metadata": {},
   "outputs": [
    {
     "name": "stdout",
     "output_type": "stream",
     "text": [
      "13\n"
     ]
    }
   ],
   "source": [
    "test1()"
   ]
  },
  {
   "cell_type": "code",
   "execution_count": 8,
   "id": "b9393e5d-5476-494f-83f7-7656ab329a0e",
   "metadata": {},
   "outputs": [],
   "source": [
    "@deco\n",
    "def test1():\n",
    "    print(6+7)"
   ]
  },
  {
   "cell_type": "code",
   "execution_count": 9,
   "id": "585a3d47-55a3-44d3-8c0b-29b3a3e91d40",
   "metadata": {},
   "outputs": [
    {
     "name": "stdout",
     "output_type": "stream",
     "text": [
      "this is my start of the function\n",
      "13\n",
      "this is my start of the function\n"
     ]
    }
   ],
   "source": [
    "test1()"
   ]
  },
  {
   "cell_type": "code",
   "execution_count": 11,
   "id": "87d76e50-a092-4e2a-8474-d8000fb921a7",
   "metadata": {},
   "outputs": [],
   "source": [
    "import time\n",
    "\n",
    "def timer_test(func):\n",
    "    def timer_test_inner():\n",
    "        start= time.time()\n",
    "        func()\n",
    "        end= time.time()\n",
    "        print(end-start)\n",
    "    return timer_test_inner    "
   ]
  },
  {
   "cell_type": "code",
   "execution_count": 12,
   "id": "6be5417c-9b74-4d99-9401-b07abdbeecf1",
   "metadata": {},
   "outputs": [],
   "source": [
    "def test2():\n",
    "    print(123+546)\n",
    "    "
   ]
  },
  {
   "cell_type": "code",
   "execution_count": 13,
   "id": "9629d5e2-81fd-4b9e-8624-cfda00e63641",
   "metadata": {},
   "outputs": [
    {
     "name": "stdout",
     "output_type": "stream",
     "text": [
      "669\n"
     ]
    }
   ],
   "source": [
    "test2()"
   ]
  },
  {
   "cell_type": "code",
   "execution_count": 14,
   "id": "bfb8070f-f5a5-4b09-b5cc-4bd3ed059fd7",
   "metadata": {},
   "outputs": [],
   "source": [
    "@timer_test\n",
    "def test2():\n",
    "    print(123+546)"
   ]
  },
  {
   "cell_type": "code",
   "execution_count": 15,
   "id": "2bfccce9-eabb-4ea3-82ac-8e52dda52f08",
   "metadata": {},
   "outputs": [
    {
     "name": "stdout",
     "output_type": "stream",
     "text": [
      "669\n",
      "4.744529724121094e-05\n"
     ]
    }
   ],
   "source": [
    "test2()"
   ]
  },
  {
   "cell_type": "code",
   "execution_count": null,
   "id": "f02edd02-d719-426c-81e5-efddd52a4227",
   "metadata": {},
   "outputs": [],
   "source": [
    "test2()\n"
   ]
  },
  {
   "cell_type": "code",
   "execution_count": 1,
   "id": "8ae7e56a-ef4d-44c3-b5e5-0f259f885705",
   "metadata": {},
   "outputs": [],
   "source": [
    "import time\n",
    "\n",
    "def timer_test(func):\n",
    "    def timer_test_inner():\n",
    "        start= time.time()\n",
    "        func()\n",
    "        end= time.time()\n",
    "        print(end-start)\n",
    "    return timer_test_inner    "
   ]
  },
  {
   "cell_type": "code",
   "execution_count": 3,
   "id": "34ffeaa3-c3dd-4aa0-880a-118db4fc448d",
   "metadata": {},
   "outputs": [],
   "source": [
    "@timer_test\n",
    "def test():\n",
    "    for i in range(1000000000):\n",
    "            pass\n",
    "    \n",
    "        "
   ]
  },
  {
   "cell_type": "code",
   "execution_count": null,
   "id": "be82ee14-18e6-469a-a8f1-e34e7bf9d6dd",
   "metadata": {},
   "outputs": [],
   "source": [
    "test()"
   ]
  },
  {
   "cell_type": "code",
   "execution_count": null,
   "id": "86e71891-c9c3-4aa4-b04d-ab23afe8f1fe",
   "metadata": {},
   "outputs": [],
   "source": []
  }
 ],
 "metadata": {
  "kernelspec": {
   "display_name": "Python 3 (ipykernel)",
   "language": "python",
   "name": "python3"
  },
  "language_info": {
   "codemirror_mode": {
    "name": "ipython",
    "version": 3
   },
   "file_extension": ".py",
   "mimetype": "text/x-python",
   "name": "python",
   "nbconvert_exporter": "python",
   "pygments_lexer": "ipython3",
   "version": "3.10.8"
  }
 },
 "nbformat": 4,
 "nbformat_minor": 5
}
