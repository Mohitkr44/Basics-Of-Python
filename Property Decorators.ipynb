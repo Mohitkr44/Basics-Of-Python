{
 "cells": [
  {
   "cell_type": "code",
   "execution_count": 1,
   "id": "a1d5bb1e-7d2b-4017-ad1e-075cdaebb31f",
   "metadata": {},
   "outputs": [],
   "source": [
    "class pwskills:\n",
    "    def __init__(self, course_price,course_name):\n",
    "        self.course_price=course_name\n",
    "        self.course_name= course_name"
   ]
  },
  {
   "cell_type": "code",
   "execution_count": 3,
   "id": "8bfd6d0f-bdd2-40c1-a0fe-9584cd534b37",
   "metadata": {},
   "outputs": [],
   "source": [
    "class pwskills:\n",
    "    \n",
    "    def __init__(self,course_price,course_name):\n",
    "        \n",
    "        self.__course_price= course_price\n",
    "        self.course_name= course_name"
   ]
  },
  {
   "cell_type": "code",
   "execution_count": 4,
   "id": "6ef368d5-754f-4fcb-bd00-37b63816e365",
   "metadata": {},
   "outputs": [],
   "source": [
    "pw= pwskills(3500,'data science masters')"
   ]
  },
  {
   "cell_type": "code",
   "execution_count": 5,
   "id": "539e4e5a-82a0-4e95-93e5-2dd3cceac9a9",
   "metadata": {},
   "outputs": [
    {
     "data": {
      "text/plain": [
       "3500"
      ]
     },
     "execution_count": 5,
     "metadata": {},
     "output_type": "execute_result"
    }
   ],
   "source": [
    "pw._pwskills__course_price"
   ]
  },
  {
   "cell_type": "code",
   "execution_count": 6,
   "id": "81d58fb7-6024-4574-8c73-b3fd43774e4e",
   "metadata": {},
   "outputs": [
    {
     "data": {
      "text/plain": [
       "'data science masters'"
      ]
     },
     "execution_count": 6,
     "metadata": {},
     "output_type": "execute_result"
    }
   ],
   "source": [
    "pw.course_name"
   ]
  },
  {
   "cell_type": "code",
   "execution_count": 7,
   "id": "f5e2236a-8ea1-4da7-aa75-f2f846c7640f",
   "metadata": {},
   "outputs": [],
   "source": [
    "class pwskills:\n",
    "    \n",
    "    def __init__(self,course_price,course_name):\n",
    "        \n",
    "        self.__course_price= course_price\n",
    "        self.course_name= course_name\n",
    "    @property\n",
    "    def course_price_access(self):\n",
    "        return self.__course_price"
   ]
  },
  {
   "cell_type": "code",
   "execution_count": 8,
   "id": "e1f87d5d-0640-4be0-8e25-aaddac080b64",
   "metadata": {},
   "outputs": [],
   "source": [
    "pw= pwskills(3500,'data science masters')"
   ]
  },
  {
   "cell_type": "code",
   "execution_count": 9,
   "id": "b1e753aa-5b45-43ff-bffe-bc5b0351a648",
   "metadata": {},
   "outputs": [
    {
     "data": {
      "text/plain": [
       "3500"
      ]
     },
     "execution_count": 9,
     "metadata": {},
     "output_type": "execute_result"
    }
   ],
   "source": [
    "pw.course_price_access"
   ]
  },
  {
   "cell_type": "code",
   "execution_count": 10,
   "id": "ccc21de0-dbfc-4047-8481-2ad4975e522a",
   "metadata": {},
   "outputs": [],
   "source": [
    "class pwskills:\n",
    "    \n",
    "    def __init__(self,course_price,course_name):\n",
    "        \n",
    "        self.__course_price= course_price\n",
    "        self.course_name= course_name\n",
    "    @property\n",
    "    def course_price_access(self):\n",
    "        return self.__course_price\n",
    "    \n",
    "    @course_price_access.setter\n",
    "    def course_price_set(self,price):\n",
    "        if price<=3500:\n",
    "            pass\n",
    "        else:\n",
    "            self.__course_price=price"
   ]
  },
  {
   "cell_type": "code",
   "execution_count": 11,
   "id": "eb0392ea-76ca-45f3-a80d-7057e468ede1",
   "metadata": {},
   "outputs": [],
   "source": [
    "pw= pwskills(3500,'data science masters')"
   ]
  },
  {
   "cell_type": "code",
   "execution_count": 12,
   "id": "9c042663-4e8c-4653-9d3d-7d9b0e0cf21f",
   "metadata": {},
   "outputs": [
    {
     "data": {
      "text/plain": [
       "3500"
      ]
     },
     "execution_count": 12,
     "metadata": {},
     "output_type": "execute_result"
    }
   ],
   "source": [
    "pw.course_price_access"
   ]
  },
  {
   "cell_type": "code",
   "execution_count": 13,
   "id": "debc5596-b728-4a1b-8c61-cfe3381ca06e",
   "metadata": {},
   "outputs": [],
   "source": [
    "pw.course_price_set= 4500"
   ]
  },
  {
   "cell_type": "code",
   "execution_count": 14,
   "id": "40231a25-5c63-4318-bc42-018d26e03a0b",
   "metadata": {},
   "outputs": [
    {
     "data": {
      "text/plain": [
       "4500"
      ]
     },
     "execution_count": 14,
     "metadata": {},
     "output_type": "execute_result"
    }
   ],
   "source": [
    "pw.course_price_access"
   ]
  },
  {
   "cell_type": "code",
   "execution_count": null,
   "id": "193573c5-11ad-4607-8239-eb7b5d9955df",
   "metadata": {},
   "outputs": [],
   "source": []
  }
 ],
 "metadata": {
  "kernelspec": {
   "display_name": "Python 3 (ipykernel)",
   "language": "python",
   "name": "python3"
  },
  "language_info": {
   "codemirror_mode": {
    "name": "ipython",
    "version": 3
   },
   "file_extension": ".py",
   "mimetype": "text/x-python",
   "name": "python",
   "nbconvert_exporter": "python",
   "pygments_lexer": "ipython3",
   "version": "3.10.8"
  }
 },
 "nbformat": 4,
 "nbformat_minor": 5
}
